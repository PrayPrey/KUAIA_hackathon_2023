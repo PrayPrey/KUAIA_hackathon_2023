{
 "cells": [
  {
   "cell_type": "markdown",
   "metadata": {},
   "source": [
    "# 인스타그램 태그 크롤링\n",
    "\n",
    "- 현재 정보는 태그가 없는 경우가 있다.\n",
    "- 그 태그 정보를 모두 크롤링하여 보자."
   ]
  },
  {
   "cell_type": "code",
   "execution_count": 1,
   "metadata": {},
   "outputs": [],
   "source": [
    "import pandas as pd\n",
    "import numpy as np\n",
    "import re \n",
    "import os"
   ]
  },
  {
   "cell_type": "code",
   "execution_count": 20,
   "metadata": {},
   "outputs": [],
   "source": [
    "# directory  = 'C:/Users/USER/Documents/Jupyter_Notebook/KUAIA_Hackerton_3/인플루언서정보_샘플1/'\n",
    " \n",
    "# file_list = os.listdir(directory)"
   ]
  },
  {
   "cell_type": "code",
   "execution_count": 22,
   "metadata": {},
   "outputs": [],
   "source": [
    "# for file in file_list[0:1]:\n",
    "#     df = pd.read_json(directory + file + '/data.json')\n"
   ]
  },
  {
   "cell_type": "code",
   "execution_count": 24,
   "metadata": {},
   "outputs": [],
   "source": [
    "# df.iloc[-1,-2]"
   ]
  },
  {
   "cell_type": "markdown",
   "metadata": {},
   "source": [
    "# 무신사 크롤링"
   ]
  },
  {
   "cell_type": "code",
   "execution_count": 2,
   "metadata": {},
   "outputs": [],
   "source": [
    "from bs4 import BeautifulSoup\n",
    "import requests"
   ]
  },
  {
   "cell_type": "code",
   "execution_count": 3,
   "metadata": {},
   "outputs": [],
   "source": [
    "large = ['americancasual','casual','chic','dandy','formal','girlish','golf','homewear','retro','romantic','sports','street']"
   ]
  },
  {
   "cell_type": "code",
   "execution_count": 12,
   "metadata": {
    "scrolled": true
   },
   "outputs": [
    {
     "name": "stderr",
     "output_type": "stream",
     "text": [
      "100%|██████████████████████████████████████████████████████████████████████████████████| 12/12 [03:28<00:00, 17.39s/it]\n"
     ]
    }
   ],
   "source": [
    "from fake_useragent import UserAgent\n",
    "import tqdm \n",
    "\n",
    "\n",
    "page_num = 4\n",
    "\n",
    "photo_url_lst = []\n",
    "ua = UserAgent()\n",
    "\n",
    "headers = {\n",
    "    'User-Agent': ua.random,\n",
    "}\n",
    "\n",
    "dict_all = {}\n",
    "\n",
    "for small in tqdm.tqdm(large):\n",
    "\n",
    "    url = 'https://store.musinsa.com/app/codimap/lists?style_type='+small+'&tag_no=&brand=&display_cnt=60&list_kind=big&sort=date&page='+str(page_num)\n",
    "    res = requests.get(url, headers = headers)\n",
    "    \n",
    "    soup = BeautifulSoup(res.content, 'html.parser')\n",
    "    \n",
    "    lst_style = []\n",
    "    for sip in soup.select('div.style-list-information'):\n",
    "        numbers = re.sub(r'[^0-9]', '', sip.strong['onclick'].split()[0])\n",
    "        style_number = numbers\n",
    "        style_name = sip.span.text\n",
    "        style_name_part = sip.strong.text\n",
    "\n",
    "        lst_style.append([style_number,style_name,style_name_part])\n",
    "\n",
    "    df_style = pd.DataFrame(lst_style)\n",
    "\n",
    "    url_2 = 'https://store.musinsa.com/app/codimap/views'\n",
    "\n",
    "    ua_2 = UserAgent()\n",
    "\n",
    "    headers_2 = {\n",
    "        'User-Agent': ua_2.random,\n",
    "    }\n",
    "    \n",
    "    for idx,num in enumerate(df_style[0].values):\n",
    "        \n",
    "\n",
    "        res_2 = requests.get(url_2 + '/' + str(num), headers = headers_2)\n",
    "        soup_2 = BeautifulSoup(res_2.content, 'html.parser')\n",
    "\n",
    "        lst_codimap = []\n",
    "        for sip2 in soup_2.select('div.styling_tag'):\n",
    "            lst_shap = []\n",
    "            for sip2_small in sip2.select('a.ui-tag-list__item'):\n",
    "                lst_shap.append(sip2_small.text.replace('#',''))\n",
    "\n",
    "            lst_codimap.append([sip2.p.text, lst_shap])   \n",
    "\n",
    "\n",
    "        for sip2_1 in soup_2.select('div.swiper-slide.style_contents_size'):\n",
    "            url_3 = 'https:' + sip2_1.img['src']\n",
    "            photo_url = url_3.replace('220.jpg','500.jpg')\n",
    "            photo_url_lst.append([photo_url, df_style[1][idx], df_style[2][idx], url_2 + '/' + str(num),\n",
    "                                  lst_codimap[0][0], lst_codimap[0][1]])\n",
    "            \n",
    " \n",
    "            \n",
    "\n",
    "            \n",
    "\n",
    "            \n",
    "            \n",
    "        "
   ]
  },
  {
   "cell_type": "code",
   "execution_count": 13,
   "metadata": {},
   "outputs": [],
   "source": [
    "df_total_2 = pd.DataFrame(photo_url_lst,columns = ['image_url','style','style_part','domain_url','comment','tag'])"
   ]
  },
  {
   "cell_type": "code",
   "execution_count": 15,
   "metadata": {},
   "outputs": [],
   "source": [
    "# df_total_2.to_excel('Fourth_Page.xlsx' ,encoding= 'utf-8-sig')"
   ]
  },
  {
   "cell_type": "code",
   "execution_count": 73,
   "metadata": {},
   "outputs": [],
   "source": [
    "# pd.concat([df,df_total_2]).to_excel('Third_Page.xlsx' ,encoding= 'utf-8-sig')"
   ]
  },
  {
   "cell_type": "markdown",
   "metadata": {},
   "source": [
    "# 사진 받아오기"
   ]
  },
  {
   "cell_type": "code",
   "execution_count": 9,
   "metadata": {},
   "outputs": [],
   "source": [
    "import os\n",
    "import time\n",
    "import pandas as pd\n",
    "import numpy as np"
   ]
  },
  {
   "cell_type": "code",
   "execution_count": null,
   "metadata": {},
   "outputs": [],
   "source": []
  },
  {
   "cell_type": "code",
   "execution_count": null,
   "metadata": {},
   "outputs": [],
   "source": []
  },
  {
   "cell_type": "code",
   "execution_count": null,
   "metadata": {},
   "outputs": [],
   "source": []
  },
  {
   "cell_type": "code",
   "execution_count": null,
   "metadata": {},
   "outputs": [],
   "source": []
  }
 ],
 "metadata": {
  "hide_input": false,
  "kernelspec": {
   "display_name": "Python 3",
   "language": "python",
   "name": "python3"
  },
  "language_info": {
   "codemirror_mode": {
    "name": "ipython",
    "version": 3
   },
   "file_extension": ".py",
   "mimetype": "text/x-python",
   "name": "python",
   "nbconvert_exporter": "python",
   "pygments_lexer": "ipython3",
   "version": "3.7.4"
  },
  "toc": {
   "base_numbering": 1,
   "nav_menu": {},
   "number_sections": true,
   "sideBar": true,
   "skip_h1_title": false,
   "title_cell": "Table of Contents",
   "title_sidebar": "Contents",
   "toc_cell": false,
   "toc_position": {},
   "toc_section_display": true,
   "toc_window_display": false
  },
  "varInspector": {
   "cols": {
    "lenName": 16,
    "lenType": 16,
    "lenVar": 40
   },
   "kernels_config": {
    "python": {
     "delete_cmd_postfix": "",
     "delete_cmd_prefix": "del ",
     "library": "var_list.py",
     "varRefreshCmd": "print(var_dic_list())"
    },
    "r": {
     "delete_cmd_postfix": ") ",
     "delete_cmd_prefix": "rm(",
     "library": "var_list.r",
     "varRefreshCmd": "cat(var_dic_list()) "
    }
   },
   "types_to_exclude": [
    "module",
    "function",
    "builtin_function_or_method",
    "instance",
    "_Feature"
   ],
   "window_display": false
  },
  "vscode": {
   "interpreter": {
    "hash": "4c84b0f6af3b91181ac42c1e4857f90b45abdad43bc5d11c0c8c194282206e7d"
   }
  }
 },
 "nbformat": 4,
 "nbformat_minor": 2
}
