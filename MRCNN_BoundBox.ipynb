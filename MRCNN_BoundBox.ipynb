{
 "cells": [
  {
   "cell_type": "code",
   "execution_count": 3,
   "metadata": {},
   "outputs": [],
   "source": [
    "from mrcnn.visualize import display_instances\n",
    "from mrcnn import visualize\n",
    "\n",
    "from keras.preprocessing.image import load_img\n",
    "from keras.preprocessing.image import img_to_array\n",
    "from mrcnn.config import Config\n",
    "from mrcnn.model import MaskRCNN\n",
    "import matplotlib.pyplot as plt\n",
    "from mrcnn.visualize import * \n",
    "\n",
    "from PIL import Image\n",
    "from PIL import ImageDraw\n",
    "from PIL import ImageFont\n",
    "import numpy as np\n",
    "import matplotlib.pyplot as plt\n",
    "\n",
    "import os\n",
    "import random\n",
    "import datetime\n",
    "import re\n",
    "import math\n",
    "import logging\n",
    "from collections import OrderedDict\n",
    "import multiprocessing\n",
    "import numpy as np\n",
    "import tensorflow.compat.v1 as tf\n",
    "import tensorflow as tf\n",
    "import keras\n",
    "import keras.backend as K\n",
    "import keras.layers as KL\n",
    "import keras.engine as KE\n",
    "import keras.models as KM\n",
    "import keras.callbacks\n",
    "\n",
    "from PIL import Image, ImageDraw\n",
    "from PIL import Image\n",
    "import skimage \n",
    "import pandas as pd\n",
    "import numpy as np\n",
    "\n",
    "from mrcnn import utils\n",
    "\n",
    "tf.compat.v1.disable_eager_execution()"
   ]
  },
  {
   "cell_type": "code",
   "execution_count": 4,
   "metadata": {},
   "outputs": [],
   "source": [
    "class TestConfig(Config):\n",
    "    NAME = \"test\"\n",
    "    GPU_COUNT = 1\n",
    "    IMAGES_PER_GPU = 1\n",
    "    NUM_CLASSES = 13 + 1\n",
    "    BATCH_SIZE = 1\n",
    "    \n",
    "model = MaskRCNN(mode = 'inference',config = TestConfig(), model_dir= '')\n",
    "\n",
    "model.load_weights('mask_rcnn_deepfashion2_0100.h5', by_name= True)"
   ]
  },
  {
   "cell_type": "code",
   "execution_count": null,
   "metadata": {},
   "outputs": [],
   "source": [
    "model.unmold_detections()"
   ]
  },
  {
   "cell_type": "code",
   "execution_count": null,
   "metadata": {},
   "outputs": [],
   "source": [
    "model.detect([img_1]) "
   ]
  },
  {
   "cell_type": "code",
   "execution_count": 28,
   "metadata": {},
   "outputs": [],
   "source": [
    "class_lst =[\n",
    "    \"short sleeve top\",\n",
    "    \"long sleeve top\",\n",
    "    \"short sleeve outwear\",\n",
    "    \"long sleeve outwear\",\n",
    "    \"vest\",\n",
    "    \"sling\",\n",
    "    \"shorts\",\n",
    "    \"trousers\",\n",
    "    \"skirt\",\n",
    "    \"short sleeve dress\",\n",
    "    \"long sleeve dress\",\n",
    "    \"vest dress\",\n",
    "    \"sling dress\",\n",
    "  ]"
   ]
  },
  {
   "cell_type": "code",
   "execution_count": 66,
   "metadata": {},
   "outputs": [],
   "source": []
  },
  {
   "cell_type": "code",
   "execution_count": 128,
   "metadata": {},
   "outputs": [
    {
     "data": {
      "text/plain": [
       "'sling dress'"
      ]
     },
     "execution_count": 128,
     "metadata": {},
     "output_type": "execute_result"
    }
   ],
   "source": [
    "class_lst[A[0]['class_ids'][0]]"
   ]
  },
  {
   "cell_type": "code",
   "execution_count": 227,
   "metadata": {},
   "outputs": [
    {
     "data": {
      "text/plain": [
       "1"
      ]
     },
     "execution_count": 227,
     "metadata": {},
     "output_type": "execute_result"
    }
   ],
   "source": [
    "A[0]['class_ids'][0]"
   ]
  },
  {
   "cell_type": "code",
   "execution_count": null,
   "metadata": {},
   "outputs": [],
   "source": []
  },
  {
   "cell_type": "code",
   "execution_count": 183,
   "metadata": {},
   "outputs": [],
   "source": [
    "def pil_draw_rect_with_label(image, point1, point2, text, font_color=(255, 0, 0)):\n",
    "    draw = ImageDraw.Draw(image)\n",
    "    draw.rectangle((point1, point2), outline=(0, 0, 255), width=3)\n",
    "\n",
    "    x1, y1 = point1\n",
    "    imageFont = ImageFont.load_default()\n",
    "    text_width, text_height = imageFont.getsize(text) \n",
    "    draw.rectangle(((x1, y1 + text_height), (x1 + text_width, y1 )), fill=(0, 0, 255)) #채워진 사각형\n",
    "#     draw.text((x1, y1 - text_height), text, font=imageFont, fill=font_color)\n",
    "    draw.text((x1, y1 ), text, font=imageFont, fill=font_color)\n",
    "\n",
    "    return image\n",
    "\n"
   ]
  },
  {
   "cell_type": "code",
   "execution_count": 239,
   "metadata": {},
   "outputs": [],
   "source": [
    "def image_show(name):\n",
    "    \n",
    "    img_0 = Image.open(name)\n",
    "    img_1 = skimage.io.imread(name)\n",
    "    A = model.detect([img_1])\n",
    "    \n",
    "\n",
    "    if len(A[0]['rois']) == 0:\n",
    "        raise Exception('인식되지 않습니다.')\n",
    "    \n",
    "    image = img_0\n",
    "\n",
    "\n",
    "    draw = ImageDraw.Draw(image)\n",
    "\n",
    "    y1, x1, y2, x2= A[0]['rois'][0]\n",
    "\n",
    "    # Draw the bounding box with red lines\n",
    "    draw.rectangle((x1,y1,x2,y2 ),\n",
    "                   outline=(255, 0, 0), # Red in RGB\n",
    "                   width=3)             # Line width\n",
    "\n",
    "    image = img_0\n",
    "\n",
    "    image = pil_draw_rect_with_label(image, (x1, y1), (x2, y2), class_lst[A[0]['class_ids'][0]])\n",
    "\n",
    "    image.show()\n",
    "    \n",
    "    "
   ]
  },
  {
   "cell_type": "code",
   "execution_count": null,
   "metadata": {},
   "outputs": [],
   "source": []
  },
  {
   "cell_type": "code",
   "execution_count": 240,
   "metadata": {},
   "outputs": [
    {
     "name": "stderr",
     "output_type": "stream",
     "text": [
      "C:\\Users\\USER\\Anaconda3\\lib\\site-packages\\ipykernel_launcher.py:7: DeprecationWarning: getsize is deprecated and will be removed in Pillow 10 (2023-07-01). Use getbbox or getlength instead.\n",
      "  import sys\n"
     ]
    }
   ],
   "source": [
    "image_show('MuSinSa_photo/0.jpg')"
   ]
  },
  {
   "cell_type": "markdown",
   "metadata": {},
   "source": [
    "# 데이터 import, 각 데이터별 bouding box 만들기"
   ]
  },
  {
   "cell_type": "code",
   "execution_count": null,
   "metadata": {},
   "outputs": [],
   "source": []
  },
  {
   "cell_type": "code",
   "execution_count": null,
   "metadata": {},
   "outputs": [],
   "source": []
  },
  {
   "cell_type": "code",
   "execution_count": null,
   "metadata": {},
   "outputs": [],
   "source": []
  },
  {
   "cell_type": "code",
   "execution_count": null,
   "metadata": {},
   "outputs": [],
   "source": []
  },
  {
   "cell_type": "code",
   "execution_count": null,
   "metadata": {},
   "outputs": [],
   "source": []
  },
  {
   "cell_type": "code",
   "execution_count": null,
   "metadata": {},
   "outputs": [],
   "source": []
  },
  {
   "cell_type": "code",
   "execution_count": null,
   "metadata": {},
   "outputs": [],
   "source": []
  },
  {
   "cell_type": "code",
   "execution_count": 241,
   "metadata": {},
   "outputs": [],
   "source": [
    "import urllib.request\n",
    "def make_image_bouding_file(url,name):\n",
    "    \n",
    "    lst_small = []\n",
    "\n",
    "    urllib.request.urlretrieve(url, 'MuSinSa_photo/Origin/' + str(name) + '.jpg')    \n",
    "    \n",
    "    img_dir = 'MuSinSa_photo/Origin/' + str(name) + '.jpg'\n",
    "    \n",
    "\n",
    "    img_0 = Image.open(img_dir)\n",
    "    img_1 = skimage.io.imread(img_dir)\n",
    "    A = model.detect([img_1])    \n",
    "    \n",
    "    image = img_0\n",
    "\n",
    "    \n",
    "    # 일단 그림은 탐지되는 경우에만 Applied 폴더에 넣기로 함!\n",
    "    if len(A[0]['rois']) == 0:\n",
    "        print('인식되지 않습니다.')\n",
    "        \n",
    "        class_name = 'Not_Detected'\n",
    "        \n",
    "        lst_small.append([name,class_name,0,[None,None,None,None]])\n",
    "        pass\n",
    "    \n",
    "    else:       \n",
    "        y1, x1, y2, x2= A[0]['rois'][0]\n",
    "        \n",
    "        class_name = class_lst[A[0]['class_ids'][0]]\n",
    "\n",
    "        lst_small.append([name,class_name,1,[x1,y1,x2,y2]])\n",
    "        \n",
    "        \n",
    "        \n",
    "        #### 그림 그리는 부분 #########\n",
    "        draw = ImageDraw.Draw(image)\n",
    "\n",
    "\n",
    "        # Draw the bounding box with red lines\n",
    "        draw.rectangle((x1,y1,x2,y2),\n",
    "               outline=(255, 0, 0), # Red in RGB\n",
    "               width=3)             # Line width\n",
    "        \n",
    "        image = pil_draw_rect_with_label(image, (x1, y1), (x2, y2),class_name)\n",
    "        image.save('MuSinSa_photo/Applied/'+ str(name)+ '.jpg')\n",
    "\n",
    "\n",
    "    \n",
    "    return lst_small\n",
    "    \n",
    "    \n",
    "    \n",
    "    \n",
    "    "
   ]
  },
  {
   "cell_type": "code",
   "execution_count": 25,
   "metadata": {},
   "outputs": [],
   "source": [
    "class_lst =[\n",
    "    \"short sleeve top\",\n",
    "    \"long sleeve top\",\n",
    "    \"short sleeve outwear\",\n",
    "    \"long sleeve outwear\",\n",
    "    \"vest\",\n",
    "    \"sling\",\n",
    "    \"shorts\",\n",
    "    \"trousers\",\n",
    "    \"skirt\",\n",
    "    \"short sleeve dress\",\n",
    "    \"long sleeve dress\",\n",
    "    \"vest dress\",\n",
    "    \"sling dress\",\n",
    "  ]"
   ]
  },
  {
   "cell_type": "code",
   "execution_count": 39,
   "metadata": {},
   "outputs": [],
   "source": [
    "df_total_page= pd.read_excel('First_to_Second_page.xlsx',index_col= 0)"
   ]
  },
  {
   "cell_type": "code",
   "execution_count": 40,
   "metadata": {
    "scrolled": true
   },
   "outputs": [],
   "source": [
    "df_total_page_2 = df_total_page.reset_index(drop = True).reset_index().copy()"
   ]
  },
  {
   "cell_type": "code",
   "execution_count": 47,
   "metadata": {
    "scrolled": true
   },
   "outputs": [
    {
     "data": {
      "text/html": [
       "<div>\n",
       "<style scoped>\n",
       "    .dataframe tbody tr th:only-of-type {\n",
       "        vertical-align: middle;\n",
       "    }\n",
       "\n",
       "    .dataframe tbody tr th {\n",
       "        vertical-align: top;\n",
       "    }\n",
       "\n",
       "    .dataframe thead th {\n",
       "        text-align: right;\n",
       "    }\n",
       "</style>\n",
       "<table border=\"1\" class=\"dataframe\">\n",
       "  <thead>\n",
       "    <tr style=\"text-align: right;\">\n",
       "      <th></th>\n",
       "      <th>index</th>\n",
       "      <th>image_url</th>\n",
       "      <th>style</th>\n",
       "      <th>style_part</th>\n",
       "      <th>comment</th>\n",
       "      <th>tag</th>\n",
       "      <th>domain_url</th>\n",
       "    </tr>\n",
       "  </thead>\n",
       "  <tbody>\n",
       "    <tr>\n",
       "      <th>0</th>\n",
       "      <td>0</td>\n",
       "      <td>https://image.msscdn.net/images/goods_img/2020...</td>\n",
       "      <td>아메리칸 캐주얼</td>\n",
       "      <td>아메카지 멋 내기</td>\n",
       "      <td>브라운 컬러가 돋보이는 카디건과 코튼 팬츠를 코디하고 숏 패딩과 머플러를 더해 완성...</td>\n",
       "      <td>['겨울', '아메리칸 캐주얼', '구두', '로스트가든', '메신저/크로스 백',...</td>\n",
       "      <td>https://store.musinsa.com/app/codimap/views/20899</td>\n",
       "    </tr>\n",
       "    <tr>\n",
       "      <th>1</th>\n",
       "      <td>1</td>\n",
       "      <td>https://image.msscdn.net/images/goods_img/2022...</td>\n",
       "      <td>아메리칸 캐주얼</td>\n",
       "      <td>아메카지 멋 내기</td>\n",
       "      <td>브라운 컬러가 돋보이는 카디건과 코튼 팬츠를 코디하고 숏 패딩과 머플러를 더해 완성...</td>\n",
       "      <td>['겨울', '아메리칸 캐주얼', '구두', '로스트가든', '메신저/크로스 백',...</td>\n",
       "      <td>https://store.musinsa.com/app/codimap/views/20899</td>\n",
       "    </tr>\n",
       "    <tr>\n",
       "      <th>2</th>\n",
       "      <td>2</td>\n",
       "      <td>https://image.msscdn.net/images/goods_img/2022...</td>\n",
       "      <td>아메리칸 캐주얼</td>\n",
       "      <td>아메카지 멋 내기</td>\n",
       "      <td>브라운 컬러가 돋보이는 카디건과 코튼 팬츠를 코디하고 숏 패딩과 머플러를 더해 완성...</td>\n",
       "      <td>['겨울', '아메리칸 캐주얼', '구두', '로스트가든', '메신저/크로스 백',...</td>\n",
       "      <td>https://store.musinsa.com/app/codimap/views/20899</td>\n",
       "    </tr>\n",
       "    <tr>\n",
       "      <th>3</th>\n",
       "      <td>3</td>\n",
       "      <td>https://image.msscdn.net/images/goods_img/2022...</td>\n",
       "      <td>아메리칸 캐주얼</td>\n",
       "      <td>아메카지 멋 내기</td>\n",
       "      <td>브라운 컬러가 돋보이는 카디건과 코튼 팬츠를 코디하고 숏 패딩과 머플러를 더해 완성...</td>\n",
       "      <td>['겨울', '아메리칸 캐주얼', '구두', '로스트가든', '메신저/크로스 백',...</td>\n",
       "      <td>https://store.musinsa.com/app/codimap/views/20899</td>\n",
       "    </tr>\n",
       "    <tr>\n",
       "      <th>4</th>\n",
       "      <td>4</td>\n",
       "      <td>https://image.msscdn.net/images/goods_img/2021...</td>\n",
       "      <td>아메리칸 캐주얼</td>\n",
       "      <td>아메카지 멋 내기</td>\n",
       "      <td>브라운 컬러가 돋보이는 카디건과 코튼 팬츠를 코디하고 숏 패딩과 머플러를 더해 완성...</td>\n",
       "      <td>['겨울', '아메리칸 캐주얼', '구두', '로스트가든', '메신저/크로스 백',...</td>\n",
       "      <td>https://store.musinsa.com/app/codimap/views/20899</td>\n",
       "    </tr>\n",
       "    <tr>\n",
       "      <th>...</th>\n",
       "      <td>...</td>\n",
       "      <td>...</td>\n",
       "      <td>...</td>\n",
       "      <td>...</td>\n",
       "      <td>...</td>\n",
       "      <td>...</td>\n",
       "      <td>...</td>\n",
       "    </tr>\n",
       "    <tr>\n",
       "      <th>6973</th>\n",
       "      <td>6973</td>\n",
       "      <td>https://image.msscdn.net/images/goods_img/2022...</td>\n",
       "      <td>스트릿</td>\n",
       "      <td>디테일로 승부</td>\n",
       "      <td>페이즐리 패턴이 매력적인 숏 패딩과 카고 팬츠를 코디하고 비니로 포인트를 더한 스트릿 룩</td>\n",
       "      <td>['겨울', '스트릿', '레이어무드', '비얼디드키드', '세인트페인', '앳 더...</td>\n",
       "      <td>https://store.musinsa.com/app/codimap/views/19542</td>\n",
       "    </tr>\n",
       "    <tr>\n",
       "      <th>6974</th>\n",
       "      <td>6974</td>\n",
       "      <td>https://image.msscdn.net/images/goods_img/2022...</td>\n",
       "      <td>스트릿</td>\n",
       "      <td>디테일로 승부</td>\n",
       "      <td>페이즐리 패턴이 매력적인 숏 패딩과 카고 팬츠를 코디하고 비니로 포인트를 더한 스트릿 룩</td>\n",
       "      <td>['겨울', '스트릿', '레이어무드', '비얼디드키드', '세인트페인', '앳 더...</td>\n",
       "      <td>https://store.musinsa.com/app/codimap/views/19542</td>\n",
       "    </tr>\n",
       "    <tr>\n",
       "      <th>6975</th>\n",
       "      <td>6975</td>\n",
       "      <td>https://image.msscdn.net/images/goods_img/2022...</td>\n",
       "      <td>스트릿</td>\n",
       "      <td>디테일로 승부</td>\n",
       "      <td>페이즐리 패턴이 매력적인 숏 패딩과 카고 팬츠를 코디하고 비니로 포인트를 더한 스트릿 룩</td>\n",
       "      <td>['겨울', '스트릿', '레이어무드', '비얼디드키드', '세인트페인', '앳 더...</td>\n",
       "      <td>https://store.musinsa.com/app/codimap/views/19542</td>\n",
       "    </tr>\n",
       "    <tr>\n",
       "      <th>6976</th>\n",
       "      <td>6976</td>\n",
       "      <td>https://image.msscdn.net/images/goods_img/2022...</td>\n",
       "      <td>스트릿</td>\n",
       "      <td>디테일로 승부</td>\n",
       "      <td>페이즐리 패턴이 매력적인 숏 패딩과 카고 팬츠를 코디하고 비니로 포인트를 더한 스트릿 룩</td>\n",
       "      <td>['겨울', '스트릿', '레이어무드', '비얼디드키드', '세인트페인', '앳 더...</td>\n",
       "      <td>https://store.musinsa.com/app/codimap/views/19542</td>\n",
       "    </tr>\n",
       "    <tr>\n",
       "      <th>6977</th>\n",
       "      <td>6977</td>\n",
       "      <td>https://image.msscdn.net/images/goods_img/2022...</td>\n",
       "      <td>스트릿</td>\n",
       "      <td>디테일로 승부</td>\n",
       "      <td>페이즐리 패턴이 매력적인 숏 패딩과 카고 팬츠를 코디하고 비니로 포인트를 더한 스트릿 룩</td>\n",
       "      <td>['겨울', '스트릿', '레이어무드', '비얼디드키드', '세인트페인', '앳 더...</td>\n",
       "      <td>https://store.musinsa.com/app/codimap/views/19542</td>\n",
       "    </tr>\n",
       "  </tbody>\n",
       "</table>\n",
       "<p>6978 rows × 7 columns</p>\n",
       "</div>"
      ],
      "text/plain": [
       "      index                                          image_url     style  \\\n",
       "0         0  https://image.msscdn.net/images/goods_img/2020...  아메리칸 캐주얼   \n",
       "1         1  https://image.msscdn.net/images/goods_img/2022...  아메리칸 캐주얼   \n",
       "2         2  https://image.msscdn.net/images/goods_img/2022...  아메리칸 캐주얼   \n",
       "3         3  https://image.msscdn.net/images/goods_img/2022...  아메리칸 캐주얼   \n",
       "4         4  https://image.msscdn.net/images/goods_img/2021...  아메리칸 캐주얼   \n",
       "...     ...                                                ...       ...   \n",
       "6973   6973  https://image.msscdn.net/images/goods_img/2022...       스트릿   \n",
       "6974   6974  https://image.msscdn.net/images/goods_img/2022...       스트릿   \n",
       "6975   6975  https://image.msscdn.net/images/goods_img/2022...       스트릿   \n",
       "6976   6976  https://image.msscdn.net/images/goods_img/2022...       스트릿   \n",
       "6977   6977  https://image.msscdn.net/images/goods_img/2022...       스트릿   \n",
       "\n",
       "     style_part                                            comment  \\\n",
       "0     아메카지 멋 내기  브라운 컬러가 돋보이는 카디건과 코튼 팬츠를 코디하고 숏 패딩과 머플러를 더해 완성...   \n",
       "1     아메카지 멋 내기  브라운 컬러가 돋보이는 카디건과 코튼 팬츠를 코디하고 숏 패딩과 머플러를 더해 완성...   \n",
       "2     아메카지 멋 내기  브라운 컬러가 돋보이는 카디건과 코튼 팬츠를 코디하고 숏 패딩과 머플러를 더해 완성...   \n",
       "3     아메카지 멋 내기  브라운 컬러가 돋보이는 카디건과 코튼 팬츠를 코디하고 숏 패딩과 머플러를 더해 완성...   \n",
       "4     아메카지 멋 내기  브라운 컬러가 돋보이는 카디건과 코튼 팬츠를 코디하고 숏 패딩과 머플러를 더해 완성...   \n",
       "...         ...                                                ...   \n",
       "6973    디테일로 승부  페이즐리 패턴이 매력적인 숏 패딩과 카고 팬츠를 코디하고 비니로 포인트를 더한 스트릿 룩   \n",
       "6974    디테일로 승부  페이즐리 패턴이 매력적인 숏 패딩과 카고 팬츠를 코디하고 비니로 포인트를 더한 스트릿 룩   \n",
       "6975    디테일로 승부  페이즐리 패턴이 매력적인 숏 패딩과 카고 팬츠를 코디하고 비니로 포인트를 더한 스트릿 룩   \n",
       "6976    디테일로 승부  페이즐리 패턴이 매력적인 숏 패딩과 카고 팬츠를 코디하고 비니로 포인트를 더한 스트릿 룩   \n",
       "6977    디테일로 승부  페이즐리 패턴이 매력적인 숏 패딩과 카고 팬츠를 코디하고 비니로 포인트를 더한 스트릿 룩   \n",
       "\n",
       "                                                    tag  \\\n",
       "0     ['겨울', '아메리칸 캐주얼', '구두', '로스트가든', '메신저/크로스 백',...   \n",
       "1     ['겨울', '아메리칸 캐주얼', '구두', '로스트가든', '메신저/크로스 백',...   \n",
       "2     ['겨울', '아메리칸 캐주얼', '구두', '로스트가든', '메신저/크로스 백',...   \n",
       "3     ['겨울', '아메리칸 캐주얼', '구두', '로스트가든', '메신저/크로스 백',...   \n",
       "4     ['겨울', '아메리칸 캐주얼', '구두', '로스트가든', '메신저/크로스 백',...   \n",
       "...                                                 ...   \n",
       "6973  ['겨울', '스트릿', '레이어무드', '비얼디드키드', '세인트페인', '앳 더...   \n",
       "6974  ['겨울', '스트릿', '레이어무드', '비얼디드키드', '세인트페인', '앳 더...   \n",
       "6975  ['겨울', '스트릿', '레이어무드', '비얼디드키드', '세인트페인', '앳 더...   \n",
       "6976  ['겨울', '스트릿', '레이어무드', '비얼디드키드', '세인트페인', '앳 더...   \n",
       "6977  ['겨울', '스트릿', '레이어무드', '비얼디드키드', '세인트페인', '앳 더...   \n",
       "\n",
       "                                             domain_url  \n",
       "0     https://store.musinsa.com/app/codimap/views/20899  \n",
       "1     https://store.musinsa.com/app/codimap/views/20899  \n",
       "2     https://store.musinsa.com/app/codimap/views/20899  \n",
       "3     https://store.musinsa.com/app/codimap/views/20899  \n",
       "4     https://store.musinsa.com/app/codimap/views/20899  \n",
       "...                                                 ...  \n",
       "6973  https://store.musinsa.com/app/codimap/views/19542  \n",
       "6974  https://store.musinsa.com/app/codimap/views/19542  \n",
       "6975  https://store.musinsa.com/app/codimap/views/19542  \n",
       "6976  https://store.musinsa.com/app/codimap/views/19542  \n",
       "6977  https://store.musinsa.com/app/codimap/views/19542  \n",
       "\n",
       "[6978 rows x 7 columns]"
      ]
     },
     "execution_count": 47,
     "metadata": {},
     "output_type": "execute_result"
    }
   ],
   "source": [
    "df_total_page_2"
   ]
  },
  {
   "cell_type": "code",
   "execution_count": 48,
   "metadata": {
    "scrolled": true
   },
   "outputs": [
    {
     "name": "stderr",
     "output_type": "stream",
     "text": [
      "  3%|██▏                                                                            | 190/6978 [00:13<08:20, 13.58it/s]"
     ]
    },
    {
     "name": "stdout",
     "output_type": "stream",
     "text": [
      "187\n"
     ]
    },
    {
     "name": "stderr",
     "output_type": "stream",
     "text": [
      " 18%|█████████████▊                                                                | 1238/6978 [01:53<10:46,  8.87it/s]"
     ]
    },
    {
     "name": "stdout",
     "output_type": "stream",
     "text": [
      "1236\n"
     ]
    },
    {
     "name": "stderr",
     "output_type": "stream",
     "text": [
      " 31%|███████████████████████▉                                                      | 2138/6978 [03:16<07:46, 10.37it/s]"
     ]
    },
    {
     "name": "stdout",
     "output_type": "stream",
     "text": [
      "2136\n"
     ]
    },
    {
     "name": "stderr",
     "output_type": "stream",
     "text": [
      " 35%|███████████████████████████▌                                                  | 2471/6978 [03:56<08:16,  9.08it/s]"
     ]
    },
    {
     "name": "stdout",
     "output_type": "stream",
     "text": [
      "2468\n"
     ]
    },
    {
     "name": "stderr",
     "output_type": "stream",
     "text": [
      " 71%|███████████████████████████████████████████████████████▍                      | 4965/6978 [08:27<02:31, 13.30it/s]"
     ]
    },
    {
     "name": "stdout",
     "output_type": "stream",
     "text": [
      "4963\n"
     ]
    },
    {
     "name": "stderr",
     "output_type": "stream",
     "text": [
      "100%|██████████████████████████████████████████████████████████████████████████████| 6978/6978 [12:13<00:00,  9.52it/s]\n"
     ]
    }
   ],
   "source": [
    "# 일단 그냥 사진에 대해서 크롤링만 하자.\n",
    "import tqdm\n",
    "from fake_useragent import UserAgent\n",
    "import random\n",
    "\n",
    "ua = UserAgent()    # 접속 원하는 페이지 주소를 넣어주세요. \n",
    "headers = {\n",
    "    'User-Agent': ua.random,\n",
    "}\n",
    "\n",
    "lst_total = []\n",
    "lst_out = []\n",
    "\n",
    "for name,url in tqdm.tqdm(df_total_page_2[['index','image_url']].values):\n",
    "    \n",
    "    \n",
    "\n",
    "    ua = UserAgent()\n",
    "    \n",
    "    opener = urllib.request.build_opener()\n",
    "    opener.addheaders = [('User-Agent', ua.random)]\n",
    "    urllib.request.install_opener(opener)\n",
    "    \n",
    "    try:\n",
    "        urllib.request.urlretrieve(url, 'MuSinSa_photo/Origin/' + str(name) + '.jpg')    \n",
    "        lst_total.append(name)\n",
    "    except:\n",
    "        print(name)\n",
    "        lst_out.append(name)\n",
    "        continue\n",
    "    \n",
    "\n",
    "    "
   ]
  },
  {
   "cell_type": "code",
   "execution_count": null,
   "metadata": {},
   "outputs": [],
   "source": []
  },
  {
   "cell_type": "markdown",
   "metadata": {},
   "source": [
    "# 이미지 캡션, 데이터 뽑기"
   ]
  },
  {
   "cell_type": "code",
   "execution_count": 52,
   "metadata": {},
   "outputs": [],
   "source": [
    "df_list_normal = df_total_page_2.iloc[lst_total,:].copy()"
   ]
  },
  {
   "cell_type": "code",
   "execution_count": 54,
   "metadata": {},
   "outputs": [],
   "source": [
    "# df_list_normal.to_excel('Total_page_info.xlsx',encoding = 'utf-8-sig')"
   ]
  },
  {
   "cell_type": "code",
   "execution_count": 5,
   "metadata": {},
   "outputs": [],
   "source": [
    "df_list_normal = pd.read_excel('MuSinSa_photo/Total_page_info.xlsx',index_col= 0)"
   ]
  },
  {
   "cell_type": "code",
   "execution_count": 6,
   "metadata": {},
   "outputs": [],
   "source": [
    "lst_total = df_list_normal['index'].values"
   ]
  },
  {
   "cell_type": "code",
   "execution_count": 9,
   "metadata": {},
   "outputs": [
    {
     "data": {
      "text/plain": [
       "(6973, array([   0,    1,    2, ..., 6975, 6976, 6977], dtype=int64))"
      ]
     },
     "execution_count": 9,
     "metadata": {},
     "output_type": "execute_result"
    }
   ],
   "source": [
    "len(lst_total), lst_total"
   ]
  },
  {
   "cell_type": "code",
   "execution_count": 10,
   "metadata": {},
   "outputs": [],
   "source": [
    "def pil_draw_rect_with_label(image, point1, point2, text, font_color=(255, 0, 0)):\n",
    "    draw = ImageDraw.Draw(image)\n",
    "    draw.rectangle((point1, point2), outline=(0, 0, 255), width=3)\n",
    "\n",
    "    x1, y1 = point1\n",
    "    imageFont = ImageFont.load_default()\n",
    "    text_width, text_height = imageFont.getsize(text) \n",
    "    draw.rectangle(((x1, y1 + text_height), (x1 + text_width, y1 )), fill=(0, 0, 255)) #채워진 사각형\n",
    "#     draw.text((x1, y1 - text_height), text, font=imageFont, fill=font_color)\n",
    "    draw.text((x1, y1 ), text, font=imageFont, fill=font_color)\n",
    "\n",
    "    return image"
   ]
  },
  {
   "cell_type": "code",
   "execution_count": 11,
   "metadata": {},
   "outputs": [
    {
     "data": {
      "text/plain": [
       "array([   0,    1,    2, ..., 6975, 6976, 6977], dtype=int64)"
      ]
     },
     "execution_count": 11,
     "metadata": {},
     "output_type": "execute_result"
    }
   ],
   "source": [
    "df_list_normal['index'].values"
   ]
  },
  {
   "cell_type": "code",
   "execution_count": 12,
   "metadata": {},
   "outputs": [],
   "source": [
    "df_musina = pd.read_excel('First_to_Second_page.xlsx',index_col = 0).reset_index()"
   ]
  },
  {
   "cell_type": "code",
   "execution_count": 13,
   "metadata": {},
   "outputs": [],
   "source": [
    "df_musina['index'] = [i for i in range(df_musina.shape[0])]"
   ]
  },
  {
   "cell_type": "code",
   "execution_count": 14,
   "metadata": {},
   "outputs": [],
   "source": [
    "df_musina_2 = df_musina.iloc[df_list_normal['index'].values,:].copy()"
   ]
  },
  {
   "cell_type": "code",
   "execution_count": 15,
   "metadata": {},
   "outputs": [
    {
     "data": {
      "text/plain": [
       "((6973, 7),\n",
       " Int64Index([   0,    1,    2,    3,    4,    5,    6,    7,    8,    9,\n",
       "             ...\n",
       "             6968, 6969, 6970, 6971, 6972, 6973, 6974, 6975, 6976, 6977],\n",
       "            dtype='int64', length=6973))"
      ]
     },
     "execution_count": 15,
     "metadata": {},
     "output_type": "execute_result"
    }
   ],
   "source": [
    "df_musina_2.shape,df_musina_2.index"
   ]
  },
  {
   "cell_type": "code",
   "execution_count": 36,
   "metadata": {},
   "outputs": [],
   "source": [
    "import urllib.request\n",
    "import tqdm\n",
    "\n",
    "def make_image_bouding_file(name, style, style_part, comment, tag, domain_url):\n",
    "    \n",
    "    lst_small = []\n",
    "    img_dir = 'MuSinSa_photo/Origin/' + str(name) + '.jpg'\n",
    "    \n",
    "\n",
    "    img_0 = Image.open(img_dir)\n",
    "    img_1 = skimage.io.imread(img_dir)\n",
    "    \n",
    "    try:\n",
    "        A = model.detect([img_1])    \n",
    "    except:\n",
    "        class_name = 'Not_Detected'\n",
    "        lst_small.append([name,class_name,0,0,[None,None,None,None], style, style_part, comment, tag, domain_url])\n",
    "        print('오류 발생')\n",
    "        return lst_small\n",
    "\n",
    "\n",
    "    \n",
    "    # 일단 그림은 탐지되는 경우에만 Applied 폴더에 넣기로 함!\n",
    "    if len(A[0]['rois']) == 0:\n",
    "        print('인식되지 않습니다.')\n",
    "        \n",
    "        class_name = 'Not_Detected'\n",
    "\n",
    "        \n",
    "        lst_small.append([name,class_name,0,0,[None,None,None,None], style, style_part, comment, tag, domain_url])\n",
    "        pass\n",
    "    \n",
    "    else:       \n",
    "        \n",
    "        y1, x1, y2, x2= A[0]['rois'][0]\n",
    "        \n",
    "        if len(A[0]['rois']) != 1:\n",
    "            for num in range(len(A[0]['rois'])):\n",
    "                image = img_0.copy()\n",
    "                \n",
    "                y1, x1, y2, x2= A[0]['rois'][num]\n",
    "                class_name = class_lst[A[0]['class_ids'][num]] \n",
    "                score = A[0]['scores'][num]\n",
    "    \n",
    "                lst_small.append([str(name)+'_'+str(num) ,class_name,score,1,[x1,y1,x2,y2],style,\n",
    "                                  style_part, comment, tag, domain_url])\n",
    "\n",
    "                #### 그림 그리는 부분 #########\n",
    "                draw = ImageDraw.Draw(image)\n",
    "                # Draw the bounding box with red lines\n",
    "                draw.rectangle((x1,y1,x2,y2),\n",
    "                       outline=(255, 0, 0), # Red in RGB\n",
    "                       width=3)             # Line width\n",
    "                \n",
    "                ### 그림 저장 ###\n",
    "                image = pil_draw_rect_with_label(image, (x1, y1), (x2, y2),class_name)\n",
    "                image.save('MuSinSa_photo/Applied/'+ str(name)+'_'+str(num) + '.jpg')\n",
    "\n",
    "        else:\n",
    "            image = img_0.copy()\n",
    "            \n",
    "            y1, x1, y2, x2= A[0]['rois'][0]\n",
    "            class_name = class_lst[A[0]['class_ids'][0]]\n",
    "            score = A[0]['scores'][0]\n",
    "            \n",
    "            lst_small.append([str(name) ,class_name,score,1,[x1,y1,x2,y2], \n",
    "                              style, style_part, comment, tag, domain_url])\n",
    "\n",
    "            #### 그림 그리는 부분 #########\n",
    "            draw = ImageDraw.Draw(image)\n",
    "            # Draw the bounding box with red lines\n",
    "            draw.rectangle((x1,y1,x2,y2),\n",
    "                   outline=(255, 0, 0), # Red in RGB\n",
    "                   width=3)             # Line width\n",
    "\n",
    "            ### 그림 저장 ###\n",
    "            image = pil_draw_rect_with_label(image, (x1, y1), (x2, y2),class_name)\n",
    "            image.save('MuSinSa_photo/Applied/'+ str(name) + '.jpg')            \n",
    "            \n",
    "            \n",
    "    \n",
    "    return lst_small\n",
    "    \n",
    "    \n",
    "    \n",
    "    \n",
    "    \n",
    "    "
   ]
  },
  {
   "cell_type": "code",
   "execution_count": 37,
   "metadata": {},
   "outputs": [
    {
     "data": {
      "text/plain": [
       "Index(['index', 'image_url', 'style', 'style_part', 'comment', 'tag',\n",
       "       'domain_url'],\n",
       "      dtype='object')"
      ]
     },
     "execution_count": 37,
     "metadata": {},
     "output_type": "execute_result"
    }
   ],
   "source": [
    "df_musina_2.columns"
   ]
  },
  {
   "cell_type": "code",
   "execution_count": null,
   "metadata": {
    "scrolled": true
   },
   "outputs": [
    {
     "name": "stderr",
     "output_type": "stream",
     "text": [
      "  0%|                                                                                         | 0/6973 [00:00<?, ?it/s]C:\\Users\\USER\\Anaconda3\\lib\\site-packages\\ipykernel_launcher.py:7: DeprecationWarning: getsize is deprecated and will be removed in Pillow 10 (2023-07-01). Use getbbox or getlength instead.\n",
      "  import sys\n",
      "  0%|                                                                               | 6/6973 [00:14<4:27:26,  2.30s/it]"
     ]
    },
    {
     "name": "stdout",
     "output_type": "stream",
     "text": [
      "인식되지 않습니다.\n"
     ]
    },
    {
     "name": "stderr",
     "output_type": "stream",
     "text": [
      "\r",
      "  0%|                                                                               | 7/6973 [00:16<4:25:15,  2.28s/it]"
     ]
    },
    {
     "name": "stdout",
     "output_type": "stream",
     "text": [
      "인식되지 않습니다.\n"
     ]
    },
    {
     "name": "stderr",
     "output_type": "stream",
     "text": [
      "  0%|                                                                               | 9/6973 [00:21<4:21:52,  2.26s/it]"
     ]
    },
    {
     "name": "stdout",
     "output_type": "stream",
     "text": [
      "인식되지 않습니다.\n"
     ]
    },
    {
     "name": "stderr",
     "output_type": "stream",
     "text": [
      "  0%|▏                                                                             | 19/6973 [00:44<4:23:38,  2.27s/it]"
     ]
    },
    {
     "name": "stdout",
     "output_type": "stream",
     "text": [
      "인식되지 않습니다.\n"
     ]
    },
    {
     "name": "stderr",
     "output_type": "stream",
     "text": [
      "  0%|▏                                                                             | 21/6973 [00:48<4:20:36,  2.25s/it]"
     ]
    },
    {
     "name": "stdout",
     "output_type": "stream",
     "text": [
      "인식되지 않습니다.\n"
     ]
    },
    {
     "name": "stderr",
     "output_type": "stream",
     "text": [
      "  0%|▎                                                                             | 25/6973 [00:57<4:20:15,  2.25s/it]"
     ]
    },
    {
     "name": "stdout",
     "output_type": "stream",
     "text": [
      "인식되지 않습니다.\n"
     ]
    },
    {
     "name": "stderr",
     "output_type": "stream",
     "text": [
      "  0%|▎                                                                             | 27/6973 [01:01<4:19:26,  2.24s/it]"
     ]
    },
    {
     "name": "stdout",
     "output_type": "stream",
     "text": [
      "인식되지 않습니다.\n"
     ]
    },
    {
     "name": "stderr",
     "output_type": "stream",
     "text": [
      "\r",
      "  0%|▎                                                                             | 28/6973 [01:04<4:19:27,  2.24s/it]"
     ]
    },
    {
     "name": "stdout",
     "output_type": "stream",
     "text": [
      "인식되지 않습니다.\n"
     ]
    },
    {
     "name": "stderr",
     "output_type": "stream",
     "text": [
      "  0%|▎                                                                             | 30/6973 [01:08<4:18:57,  2.24s/it]"
     ]
    },
    {
     "name": "stdout",
     "output_type": "stream",
     "text": [
      "인식되지 않습니다.\n"
     ]
    },
    {
     "name": "stderr",
     "output_type": "stream",
     "text": [
      "  1%|▍                                                                             | 40/6973 [01:31<4:22:21,  2.27s/it]"
     ]
    },
    {
     "name": "stdout",
     "output_type": "stream",
     "text": [
      "인식되지 않습니다.\n"
     ]
    },
    {
     "name": "stderr",
     "output_type": "stream",
     "text": [
      "  1%|▍                                                                             | 42/6973 [01:35<4:20:26,  2.25s/it]"
     ]
    },
    {
     "name": "stdout",
     "output_type": "stream",
     "text": [
      "인식되지 않습니다.\n"
     ]
    },
    {
     "name": "stderr",
     "output_type": "stream",
     "text": [
      "\r",
      "  1%|▍                                                                             | 43/6973 [01:38<4:19:51,  2.25s/it]"
     ]
    },
    {
     "name": "stdout",
     "output_type": "stream",
     "text": [
      "인식되지 않습니다.\n"
     ]
    },
    {
     "name": "stderr",
     "output_type": "stream",
     "text": [
      "  1%|▌                                                                             | 49/6973 [01:51<4:19:48,  2.25s/it]"
     ]
    },
    {
     "name": "stdout",
     "output_type": "stream",
     "text": [
      "인식되지 않습니다.\n"
     ]
    },
    {
     "name": "stderr",
     "output_type": "stream",
     "text": [
      "\r",
      "  1%|▌                                                                             | 50/6973 [01:53<4:18:56,  2.24s/it]"
     ]
    },
    {
     "name": "stdout",
     "output_type": "stream",
     "text": [
      "인식되지 않습니다.\n"
     ]
    },
    {
     "name": "stderr",
     "output_type": "stream",
     "text": [
      "  1%|▌                                                                             | 52/6973 [01:58<4:18:38,  2.24s/it]"
     ]
    },
    {
     "name": "stdout",
     "output_type": "stream",
     "text": [
      "인식되지 않습니다.\n"
     ]
    },
    {
     "name": "stderr",
     "output_type": "stream",
     "text": [
      "  1%|▌                                                                             | 54/6973 [02:02<4:20:10,  2.26s/it]"
     ]
    },
    {
     "name": "stdout",
     "output_type": "stream",
     "text": [
      "인식되지 않습니다.\n"
     ]
    },
    {
     "name": "stderr",
     "output_type": "stream",
     "text": [
      "\r",
      "  1%|▌                                                                             | 55/6973 [02:05<4:20:54,  2.26s/it]"
     ]
    },
    {
     "name": "stdout",
     "output_type": "stream",
     "text": [
      "인식되지 않습니다.\n"
     ]
    },
    {
     "name": "stderr",
     "output_type": "stream",
     "text": [
      "  1%|▋                                                                             | 61/6973 [02:18<4:20:41,  2.26s/it]"
     ]
    },
    {
     "name": "stdout",
     "output_type": "stream",
     "text": [
      "인식되지 않습니다.\n"
     ]
    },
    {
     "name": "stderr",
     "output_type": "stream",
     "text": [
      "  1%|▋                                                                             | 63/6973 [02:23<4:20:12,  2.26s/it]"
     ]
    },
    {
     "name": "stdout",
     "output_type": "stream",
     "text": [
      "인식되지 않습니다.\n"
     ]
    },
    {
     "name": "stderr",
     "output_type": "stream",
     "text": [
      "  1%|▋                                                                             | 65/6973 [02:27<4:20:25,  2.26s/it]"
     ]
    },
    {
     "name": "stdout",
     "output_type": "stream",
     "text": [
      "인식되지 않습니다.\n"
     ]
    },
    {
     "name": "stderr",
     "output_type": "stream",
     "text": [
      "  1%|▊                                                                             | 68/6973 [02:32<3:08:37,  1.64s/it]"
     ]
    },
    {
     "name": "stdout",
     "output_type": "stream",
     "text": [
      "오류 발생\n"
     ]
    },
    {
     "name": "stderr",
     "output_type": "stream",
     "text": [
      "  1%|▊                                                                             | 73/6973 [02:43<4:09:00,  2.17s/it]"
     ]
    },
    {
     "name": "stdout",
     "output_type": "stream",
     "text": [
      "인식되지 않습니다.\n"
     ]
    },
    {
     "name": "stderr",
     "output_type": "stream",
     "text": [
      "\r",
      "  1%|▊                                                                             | 74/6973 [02:46<4:17:42,  2.24s/it]"
     ]
    },
    {
     "name": "stdout",
     "output_type": "stream",
     "text": [
      "인식되지 않습니다.\n"
     ]
    },
    {
     "name": "stderr",
     "output_type": "stream",
     "text": [
      "  1%|▉                                                                             | 80/6973 [03:01<4:39:16,  2.43s/it]"
     ]
    },
    {
     "name": "stdout",
     "output_type": "stream",
     "text": [
      "인식되지 않습니다.\n"
     ]
    },
    {
     "name": "stderr",
     "output_type": "stream",
     "text": [
      "\r",
      "  1%|▉                                                                             | 81/6973 [03:03<4:36:03,  2.40s/it]"
     ]
    },
    {
     "name": "stdout",
     "output_type": "stream",
     "text": [
      "인식되지 않습니다.\n"
     ]
    },
    {
     "name": "stderr",
     "output_type": "stream",
     "text": [
      "  1%|▉                                                                             | 83/6973 [03:08<4:33:50,  2.38s/it]"
     ]
    },
    {
     "name": "stdout",
     "output_type": "stream",
     "text": [
      "인식되지 않습니다.\n"
     ]
    },
    {
     "name": "stderr",
     "output_type": "stream",
     "text": [
      "  1%|▉                                                                             | 86/6973 [03:15<4:31:36,  2.37s/it]"
     ]
    },
    {
     "name": "stdout",
     "output_type": "stream",
     "text": [
      "인식되지 않습니다.\n"
     ]
    },
    {
     "name": "stderr",
     "output_type": "stream",
     "text": [
      "\r",
      "  1%|▉                                                                             | 87/6973 [03:17<4:26:35,  2.32s/it]"
     ]
    },
    {
     "name": "stdout",
     "output_type": "stream",
     "text": [
      "인식되지 않습니다.\n"
     ]
    },
    {
     "name": "stderr",
     "output_type": "stream",
     "text": [
      "\r",
      "  1%|▉                                                                             | 88/6973 [03:19<4:28:21,  2.34s/it]"
     ]
    },
    {
     "name": "stdout",
     "output_type": "stream",
     "text": [
      "인식되지 않습니다.\n"
     ]
    },
    {
     "name": "stderr",
     "output_type": "stream",
     "text": [
      "  1%|█                                                                             | 93/6973 [03:31<4:24:31,  2.31s/it]"
     ]
    },
    {
     "name": "stdout",
     "output_type": "stream",
     "text": [
      "인식되지 않습니다.\n"
     ]
    },
    {
     "name": "stderr",
     "output_type": "stream",
     "text": [
      "  1%|█                                                                             | 98/6973 [03:43<4:27:34,  2.34s/it]"
     ]
    },
    {
     "name": "stdout",
     "output_type": "stream",
     "text": [
      "인식되지 않습니다.\n"
     ]
    },
    {
     "name": "stderr",
     "output_type": "stream",
     "text": [
      "\r",
      "  1%|█                                                                             | 99/6973 [03:45<4:24:45,  2.31s/it]"
     ]
    },
    {
     "name": "stdout",
     "output_type": "stream",
     "text": [
      "인식되지 않습니다.\n"
     ]
    },
    {
     "name": "stderr",
     "output_type": "stream",
     "text": [
      "\r",
      "  1%|█                                                                            | 100/6973 [03:47<4:21:53,  2.29s/it]"
     ]
    },
    {
     "name": "stdout",
     "output_type": "stream",
     "text": [
      "인식되지 않습니다.\n"
     ]
    },
    {
     "name": "stderr",
     "output_type": "stream",
     "text": [
      "  2%|█▏                                                                           | 106/6973 [04:01<4:31:25,  2.37s/it]"
     ]
    },
    {
     "name": "stdout",
     "output_type": "stream",
     "text": [
      "인식되지 않습니다.\n"
     ]
    },
    {
     "name": "stderr",
     "output_type": "stream",
     "text": [
      "\r",
      "  2%|█▏                                                                           | 107/6973 [04:04<4:27:32,  2.34s/it]"
     ]
    },
    {
     "name": "stdout",
     "output_type": "stream",
     "text": [
      "인식되지 않습니다.\n"
     ]
    },
    {
     "name": "stderr",
     "output_type": "stream",
     "text": [
      "  2%|█▏                                                                           | 112/6973 [04:15<4:24:09,  2.31s/it]"
     ]
    },
    {
     "name": "stdout",
     "output_type": "stream",
     "text": [
      "인식되지 않습니다.\n"
     ]
    },
    {
     "name": "stderr",
     "output_type": "stream",
     "text": [
      "  2%|█▎                                                                           | 114/6973 [04:20<4:20:42,  2.28s/it]"
     ]
    },
    {
     "name": "stdout",
     "output_type": "stream",
     "text": [
      "인식되지 않습니다.\n"
     ]
    },
    {
     "name": "stderr",
     "output_type": "stream",
     "text": [
      "  2%|█▎                                                                           | 120/6973 [04:33<4:19:29,  2.27s/it]"
     ]
    },
    {
     "name": "stdout",
     "output_type": "stream",
     "text": [
      "인식되지 않습니다.\n"
     ]
    },
    {
     "name": "stderr",
     "output_type": "stream",
     "text": [
      "  2%|█▍                                                                           | 125/6973 [04:45<4:20:56,  2.29s/it]"
     ]
    },
    {
     "name": "stdout",
     "output_type": "stream",
     "text": [
      "인식되지 않습니다.\n"
     ]
    },
    {
     "name": "stderr",
     "output_type": "stream",
     "text": [
      "\r",
      "  2%|█▍                                                                           | 126/6973 [04:47<4:21:52,  2.29s/it]"
     ]
    },
    {
     "name": "stdout",
     "output_type": "stream",
     "text": [
      "인식되지 않습니다.\n"
     ]
    },
    {
     "name": "stderr",
     "output_type": "stream",
     "text": [
      "  2%|█▍                                                                           | 132/6973 [05:01<4:22:57,  2.31s/it]"
     ]
    },
    {
     "name": "stdout",
     "output_type": "stream",
     "text": [
      "인식되지 않습니다.\n"
     ]
    },
    {
     "name": "stderr",
     "output_type": "stream",
     "text": [
      "  2%|█▍                                                                           | 134/6973 [05:06<4:17:47,  2.26s/it]"
     ]
    },
    {
     "name": "stdout",
     "output_type": "stream",
     "text": [
      "인식되지 않습니다.\n"
     ]
    },
    {
     "name": "stderr",
     "output_type": "stream",
     "text": [
      "  2%|█▌                                                                           | 136/6973 [05:10<4:13:33,  2.23s/it]"
     ]
    },
    {
     "name": "stdout",
     "output_type": "stream",
     "text": [
      "인식되지 않습니다.\n"
     ]
    },
    {
     "name": "stderr",
     "output_type": "stream",
     "text": [
      "  2%|█▌                                                                           | 142/6973 [05:24<4:26:33,  2.34s/it]"
     ]
    },
    {
     "name": "stdout",
     "output_type": "stream",
     "text": [
      "인식되지 않습니다.\n"
     ]
    },
    {
     "name": "stderr",
     "output_type": "stream",
     "text": [
      "  2%|█▌                                                                           | 145/6973 [05:31<4:22:03,  2.30s/it]"
     ]
    },
    {
     "name": "stdout",
     "output_type": "stream",
     "text": [
      "인식되지 않습니다.\n"
     ]
    },
    {
     "name": "stderr",
     "output_type": "stream",
     "text": [
      "  2%|█▋                                                                           | 150/6973 [05:43<4:27:59,  2.36s/it]"
     ]
    },
    {
     "name": "stdout",
     "output_type": "stream",
     "text": [
      "인식되지 않습니다.\n"
     ]
    },
    {
     "name": "stderr",
     "output_type": "stream",
     "text": [
      "  2%|█▋                                                                           | 152/6973 [05:48<4:46:56,  2.52s/it]"
     ]
    },
    {
     "name": "stdout",
     "output_type": "stream",
     "text": [
      "인식되지 않습니다.\n"
     ]
    },
    {
     "name": "stderr",
     "output_type": "stream",
     "text": [
      "  2%|█▊                                                                           | 161/6973 [06:09<4:18:24,  2.28s/it]"
     ]
    },
    {
     "name": "stdout",
     "output_type": "stream",
     "text": [
      "인식되지 않습니다.\n"
     ]
    },
    {
     "name": "stderr",
     "output_type": "stream",
     "text": [
      "  2%|█▊                                                                           | 163/6973 [06:14<4:13:58,  2.24s/it]"
     ]
    },
    {
     "name": "stdout",
     "output_type": "stream",
     "text": [
      "인식되지 않습니다.\n"
     ]
    },
    {
     "name": "stderr",
     "output_type": "stream",
     "text": [
      "\r",
      "  2%|█▊                                                                           | 164/6973 [06:16<4:11:14,  2.21s/it]"
     ]
    },
    {
     "name": "stdout",
     "output_type": "stream",
     "text": [
      "인식되지 않습니다.\n"
     ]
    },
    {
     "name": "stderr",
     "output_type": "stream",
     "text": [
      "\r",
      "  2%|█▊                                                                           | 165/6973 [06:18<4:10:46,  2.21s/it]"
     ]
    },
    {
     "name": "stdout",
     "output_type": "stream",
     "text": [
      "인식되지 않습니다.\n"
     ]
    },
    {
     "name": "stderr",
     "output_type": "stream",
     "text": [
      "  2%|█▉                                                                           | 170/6973 [06:29<4:12:51,  2.23s/it]"
     ]
    },
    {
     "name": "stdout",
     "output_type": "stream",
     "text": [
      "인식되지 않습니다.\n"
     ]
    },
    {
     "name": "stderr",
     "output_type": "stream",
     "text": [
      "  2%|█▉                                                                           | 174/6973 [06:38<4:10:36,  2.21s/it]"
     ]
    },
    {
     "name": "stdout",
     "output_type": "stream",
     "text": [
      "인식되지 않습니다.\n"
     ]
    },
    {
     "name": "stderr",
     "output_type": "stream",
     "text": [
      "  3%|██                                                                           | 183/6973 [06:58<4:09:24,  2.20s/it]"
     ]
    },
    {
     "name": "stdout",
     "output_type": "stream",
     "text": [
      "인식되지 않습니다.\n"
     ]
    },
    {
     "name": "stderr",
     "output_type": "stream",
     "text": [
      "\r",
      "  3%|██                                                                           | 184/6973 [07:00<4:08:46,  2.20s/it]"
     ]
    },
    {
     "name": "stdout",
     "output_type": "stream",
     "text": [
      "인식되지 않습니다.\n"
     ]
    },
    {
     "name": "stderr",
     "output_type": "stream",
     "text": [
      "  3%|██                                                                           | 186/6973 [07:05<4:09:06,  2.20s/it]"
     ]
    },
    {
     "name": "stdout",
     "output_type": "stream",
     "text": [
      "인식되지 않습니다.\n"
     ]
    },
    {
     "name": "stderr",
     "output_type": "stream",
     "text": [
      "  3%|██                                                                           | 188/6973 [07:09<4:08:12,  2.19s/it]"
     ]
    },
    {
     "name": "stdout",
     "output_type": "stream",
     "text": [
      "인식되지 않습니다.\n"
     ]
    },
    {
     "name": "stderr",
     "output_type": "stream",
     "text": [
      "  3%|██▏                                                                          | 193/6973 [07:20<4:09:27,  2.21s/it]"
     ]
    },
    {
     "name": "stdout",
     "output_type": "stream",
     "text": [
      "인식되지 않습니다.\n"
     ]
    },
    {
     "name": "stderr",
     "output_type": "stream",
     "text": [
      "\r",
      "  3%|██▏                                                                          | 194/6973 [07:22<4:08:40,  2.20s/it]"
     ]
    },
    {
     "name": "stdout",
     "output_type": "stream",
     "text": [
      "인식되지 않습니다.\n"
     ]
    },
    {
     "name": "stderr",
     "output_type": "stream",
     "text": [
      "\r",
      "  3%|██▏                                                                          | 195/6973 [07:24<4:07:37,  2.19s/it]"
     ]
    },
    {
     "name": "stdout",
     "output_type": "stream",
     "text": [
      "인식되지 않습니다.\n"
     ]
    },
    {
     "name": "stderr",
     "output_type": "stream",
     "text": [
      "  3%|██▏                                                                          | 200/6973 [07:36<4:25:05,  2.35s/it]"
     ]
    },
    {
     "name": "stdout",
     "output_type": "stream",
     "text": [
      "인식되지 않습니다.\n"
     ]
    },
    {
     "name": "stderr",
     "output_type": "stream",
     "text": [
      "\r",
      "  3%|██▏                                                                          | 201/6973 [07:38<4:23:40,  2.34s/it]"
     ]
    },
    {
     "name": "stdout",
     "output_type": "stream",
     "text": [
      "인식되지 않습니다.\n"
     ]
    },
    {
     "name": "stderr",
     "output_type": "stream",
     "text": [
      "\r",
      "  3%|██▏                                                                          | 202/6973 [07:41<4:20:23,  2.31s/it]"
     ]
    },
    {
     "name": "stdout",
     "output_type": "stream",
     "text": [
      "인식되지 않습니다.\n"
     ]
    },
    {
     "name": "stderr",
     "output_type": "stream",
     "text": [
      "  3%|██▎                                                                          | 208/6973 [07:55<4:34:34,  2.44s/it]"
     ]
    },
    {
     "name": "stdout",
     "output_type": "stream",
     "text": [
      "인식되지 않습니다.\n"
     ]
    },
    {
     "name": "stderr",
     "output_type": "stream",
     "text": [
      "  3%|██▎                                                                          | 214/6973 [08:09<4:16:53,  2.28s/it]"
     ]
    },
    {
     "name": "stdout",
     "output_type": "stream",
     "text": [
      "인식되지 않습니다.\n"
     ]
    },
    {
     "name": "stderr",
     "output_type": "stream",
     "text": [
      "  3%|██▍                                                                          | 220/6973 [08:22<4:08:08,  2.20s/it]"
     ]
    },
    {
     "name": "stdout",
     "output_type": "stream",
     "text": [
      "인식되지 않습니다.\n"
     ]
    },
    {
     "name": "stderr",
     "output_type": "stream",
     "text": [
      "  3%|██▍                                                                          | 226/6973 [08:36<4:21:56,  2.33s/it]"
     ]
    },
    {
     "name": "stdout",
     "output_type": "stream",
     "text": [
      "인식되지 않습니다.\n"
     ]
    },
    {
     "name": "stderr",
     "output_type": "stream",
     "text": [
      "\r",
      "  3%|██▌                                                                          | 227/6973 [08:39<4:22:00,  2.33s/it]"
     ]
    },
    {
     "name": "stdout",
     "output_type": "stream",
     "text": [
      "인식되지 않습니다.\n"
     ]
    },
    {
     "name": "stderr",
     "output_type": "stream",
     "text": [
      "  3%|██▌                                                                          | 231/6973 [08:48<4:16:43,  2.28s/it]"
     ]
    },
    {
     "name": "stdout",
     "output_type": "stream",
     "text": [
      "인식되지 않습니다.\n"
     ]
    },
    {
     "name": "stderr",
     "output_type": "stream",
     "text": [
      "  3%|██▋                                                                          | 239/6973 [09:07<4:29:42,  2.40s/it]"
     ]
    },
    {
     "name": "stdout",
     "output_type": "stream",
     "text": [
      "인식되지 않습니다.\n"
     ]
    },
    {
     "name": "stderr",
     "output_type": "stream",
     "text": [
      "  4%|██▋                                                                          | 245/6973 [09:22<4:40:38,  2.50s/it]"
     ]
    },
    {
     "name": "stdout",
     "output_type": "stream",
     "text": [
      "인식되지 않습니다.\n"
     ]
    },
    {
     "name": "stderr",
     "output_type": "stream",
     "text": [
      "  4%|██▋                                                                          | 248/6973 [09:27<3:20:33,  1.79s/it]"
     ]
    },
    {
     "name": "stdout",
     "output_type": "stream",
     "text": [
      "인식되지 않습니다.\n",
      "오류 발생\n"
     ]
    },
    {
     "name": "stderr",
     "output_type": "stream",
     "text": [
      "  4%|██▊                                                                          | 250/6973 [09:32<3:55:30,  2.10s/it]"
     ]
    },
    {
     "name": "stdout",
     "output_type": "stream",
     "text": [
      "인식되지 않습니다.\n"
     ]
    },
    {
     "name": "stderr",
     "output_type": "stream",
     "text": [
      "  4%|██▊                                                                          | 252/6973 [09:37<4:11:43,  2.25s/it]"
     ]
    },
    {
     "name": "stdout",
     "output_type": "stream",
     "text": [
      "인식되지 않습니다.\n"
     ]
    },
    {
     "name": "stderr",
     "output_type": "stream",
     "text": [
      "  4%|██▊                                                                          | 257/6973 [09:49<4:23:38,  2.36s/it]"
     ]
    },
    {
     "name": "stdout",
     "output_type": "stream",
     "text": [
      "인식되지 않습니다.\n"
     ]
    },
    {
     "name": "stderr",
     "output_type": "stream",
     "text": [
      "\r",
      "  4%|██▊                                                                          | 258/6973 [09:51<4:20:47,  2.33s/it]"
     ]
    },
    {
     "name": "stdout",
     "output_type": "stream",
     "text": [
      "인식되지 않습니다.\n"
     ]
    },
    {
     "name": "stderr",
     "output_type": "stream",
     "text": [
      "\r",
      "  4%|██▊                                                                          | 259/6973 [09:53<4:18:44,  2.31s/it]"
     ]
    },
    {
     "name": "stdout",
     "output_type": "stream",
     "text": [
      "인식되지 않습니다.\n"
     ]
    },
    {
     "name": "stderr",
     "output_type": "stream",
     "text": [
      "\r",
      "  4%|██▊                                                                          | 260/6973 [09:56<4:23:10,  2.35s/it]"
     ]
    },
    {
     "name": "stdout",
     "output_type": "stream",
     "text": [
      "인식되지 않습니다.\n"
     ]
    },
    {
     "name": "stderr",
     "output_type": "stream",
     "text": [
      "  4%|██▉                                                                          | 265/6973 [10:07<4:19:58,  2.33s/it]"
     ]
    },
    {
     "name": "stdout",
     "output_type": "stream",
     "text": [
      "인식되지 않습니다.\n"
     ]
    },
    {
     "name": "stderr",
     "output_type": "stream",
     "text": [
      "  4%|██▉                                                                          | 271/6973 [10:21<4:20:53,  2.34s/it]"
     ]
    },
    {
     "name": "stdout",
     "output_type": "stream",
     "text": [
      "인식되지 않습니다.\n"
     ]
    },
    {
     "name": "stderr",
     "output_type": "stream",
     "text": [
      "  4%|███                                                                          | 276/6973 [10:33<4:22:53,  2.36s/it]"
     ]
    },
    {
     "name": "stdout",
     "output_type": "stream",
     "text": [
      "인식되지 않습니다.\n"
     ]
    },
    {
     "name": "stderr",
     "output_type": "stream",
     "text": [
      "  4%|███▏                                                                         | 286/6973 [10:56<4:18:23,  2.32s/it]"
     ]
    },
    {
     "name": "stdout",
     "output_type": "stream",
     "text": [
      "인식되지 않습니다.\n"
     ]
    },
    {
     "name": "stderr",
     "output_type": "stream",
     "text": [
      "  4%|███▏                                                                         | 288/6973 [11:01<4:17:08,  2.31s/it]"
     ]
    },
    {
     "name": "stdout",
     "output_type": "stream",
     "text": [
      "인식되지 않습니다.\n"
     ]
    },
    {
     "name": "stderr",
     "output_type": "stream",
     "text": [
      "  4%|███▏                                                                         | 293/6973 [11:13<4:40:15,  2.52s/it]"
     ]
    },
    {
     "name": "stdout",
     "output_type": "stream",
     "text": [
      "인식되지 않습니다.\n"
     ]
    },
    {
     "name": "stderr",
     "output_type": "stream",
     "text": [
      "  4%|███▎                                                                         | 296/6973 [11:20<4:24:10,  2.37s/it]"
     ]
    },
    {
     "name": "stdout",
     "output_type": "stream",
     "text": [
      "인식되지 않습니다.\n"
     ]
    },
    {
     "name": "stderr",
     "output_type": "stream",
     "text": [
      "  4%|███▎                                                                         | 299/6973 [11:27<4:29:40,  2.42s/it]"
     ]
    },
    {
     "name": "stdout",
     "output_type": "stream",
     "text": [
      "인식되지 않습니다.\n"
     ]
    },
    {
     "name": "stderr",
     "output_type": "stream",
     "text": [
      "\r",
      "  4%|███▎                                                                         | 300/6973 [11:30<4:30:16,  2.43s/it]"
     ]
    },
    {
     "name": "stdout",
     "output_type": "stream",
     "text": [
      "인식되지 않습니다.\n"
     ]
    },
    {
     "name": "stderr",
     "output_type": "stream",
     "text": [
      "\r",
      "  4%|███▎                                                                         | 301/6973 [11:32<4:25:34,  2.39s/it]"
     ]
    },
    {
     "name": "stdout",
     "output_type": "stream",
     "text": [
      "인식되지 않습니다.\n"
     ]
    },
    {
     "name": "stderr",
     "output_type": "stream",
     "text": [
      "\r",
      "  4%|███▎                                                                         | 302/6973 [11:34<4:22:54,  2.36s/it]"
     ]
    },
    {
     "name": "stdout",
     "output_type": "stream",
     "text": [
      "인식되지 않습니다.\n"
     ]
    },
    {
     "name": "stderr",
     "output_type": "stream",
     "text": [
      "\r",
      "  4%|███▎                                                                         | 303/6973 [11:37<4:23:37,  2.37s/it]"
     ]
    },
    {
     "name": "stdout",
     "output_type": "stream",
     "text": [
      "인식되지 않습니다.\n"
     ]
    },
    {
     "name": "stderr",
     "output_type": "stream",
     "text": [
      "  4%|███▎                                                                         | 305/6973 [11:41<4:21:21,  2.35s/it]"
     ]
    },
    {
     "name": "stdout",
     "output_type": "stream",
     "text": [
      "인식되지 않습니다.\n"
     ]
    },
    {
     "name": "stderr",
     "output_type": "stream",
     "text": [
      "\r",
      "  4%|███▍                                                                         | 306/6973 [11:44<4:19:34,  2.34s/it]"
     ]
    },
    {
     "name": "stdout",
     "output_type": "stream",
     "text": [
      "인식되지 않습니다.\n"
     ]
    },
    {
     "name": "stderr",
     "output_type": "stream",
     "text": [
      "  4%|███▍                                                                         | 310/6973 [11:53<4:27:40,  2.41s/it]"
     ]
    },
    {
     "name": "stdout",
     "output_type": "stream",
     "text": [
      "인식되지 않습니다.\n"
     ]
    },
    {
     "name": "stderr",
     "output_type": "stream",
     "text": [
      "\r",
      "  4%|███▍                                                                         | 311/6973 [11:56<4:42:29,  2.54s/it]"
     ]
    },
    {
     "name": "stdout",
     "output_type": "stream",
     "text": [
      "인식되지 않습니다.\n"
     ]
    },
    {
     "name": "stderr",
     "output_type": "stream",
     "text": [
      "\r",
      "  4%|███▍                                                                         | 312/6973 [11:59<4:34:56,  2.48s/it]"
     ]
    },
    {
     "name": "stdout",
     "output_type": "stream",
     "text": [
      "인식되지 않습니다.\n"
     ]
    },
    {
     "name": "stderr",
     "output_type": "stream",
     "text": [
      "  5%|███▍                                                                         | 314/6973 [12:03<4:24:28,  2.38s/it]"
     ]
    },
    {
     "name": "stdout",
     "output_type": "stream",
     "text": [
      "인식되지 않습니다.\n"
     ]
    },
    {
     "name": "stderr",
     "output_type": "stream",
     "text": [
      "  5%|███▍                                                                         | 316/6973 [12:08<4:18:41,  2.33s/it]"
     ]
    },
    {
     "name": "stdout",
     "output_type": "stream",
     "text": [
      "인식되지 않습니다.\n"
     ]
    },
    {
     "name": "stderr",
     "output_type": "stream",
     "text": [
      "\r",
      "  5%|███▌                                                                         | 317/6973 [12:10<4:19:40,  2.34s/it]"
     ]
    },
    {
     "name": "stdout",
     "output_type": "stream",
     "text": [
      "인식되지 않습니다.\n"
     ]
    },
    {
     "name": "stderr",
     "output_type": "stream",
     "text": [
      "  5%|███▌                                                                         | 325/6973 [12:27<3:04:19,  1.66s/it]"
     ]
    },
    {
     "name": "stdout",
     "output_type": "stream",
     "text": [
      "오류 발생\n"
     ]
    },
    {
     "name": "stderr",
     "output_type": "stream",
     "text": [
      "  5%|███▋                                                                         | 329/6973 [12:36<3:58:40,  2.16s/it]"
     ]
    },
    {
     "name": "stdout",
     "output_type": "stream",
     "text": [
      "인식되지 않습니다.\n"
     ]
    },
    {
     "name": "stderr",
     "output_type": "stream",
     "text": [
      "  5%|███▋                                                                         | 333/6973 [12:45<4:19:55,  2.35s/it]"
     ]
    },
    {
     "name": "stdout",
     "output_type": "stream",
     "text": [
      "인식되지 않습니다.\n"
     ]
    },
    {
     "name": "stderr",
     "output_type": "stream",
     "text": [
      "  5%|███▋                                                                         | 335/6973 [12:50<4:20:33,  2.36s/it]"
     ]
    },
    {
     "name": "stdout",
     "output_type": "stream",
     "text": [
      "인식되지 않습니다.\n"
     ]
    },
    {
     "name": "stderr",
     "output_type": "stream",
     "text": [
      "  5%|███▊                                                                         | 340/6973 [13:02<4:18:33,  2.34s/it]"
     ]
    },
    {
     "name": "stdout",
     "output_type": "stream",
     "text": [
      "인식되지 않습니다.\n"
     ]
    },
    {
     "name": "stderr",
     "output_type": "stream",
     "text": [
      "\r",
      "  5%|███▊                                                                         | 341/6973 [13:04<4:18:42,  2.34s/it]"
     ]
    },
    {
     "name": "stdout",
     "output_type": "stream",
     "text": [
      "인식되지 않습니다.\n"
     ]
    },
    {
     "name": "stderr",
     "output_type": "stream",
     "text": [
      "  5%|███▊                                                                         | 343/6973 [13:09<4:19:34,  2.35s/it]"
     ]
    },
    {
     "name": "stdout",
     "output_type": "stream",
     "text": [
      "인식되지 않습니다.\n"
     ]
    },
    {
     "name": "stderr",
     "output_type": "stream",
     "text": [
      "  5%|███▊                                                                         | 346/6973 [13:16<4:18:25,  2.34s/it]"
     ]
    },
    {
     "name": "stdout",
     "output_type": "stream",
     "text": [
      "인식되지 않습니다.\n"
     ]
    },
    {
     "name": "stderr",
     "output_type": "stream",
     "text": [
      "\r",
      "  5%|███▊                                                                         | 347/6973 [13:18<4:16:57,  2.33s/it]"
     ]
    },
    {
     "name": "stdout",
     "output_type": "stream",
     "text": [
      "인식되지 않습니다.\n"
     ]
    },
    {
     "name": "stderr",
     "output_type": "stream",
     "text": [
      "  5%|███▉                                                                         | 351/6973 [13:28<4:19:13,  2.35s/it]"
     ]
    },
    {
     "name": "stdout",
     "output_type": "stream",
     "text": [
      "인식되지 않습니다.\n"
     ]
    },
    {
     "name": "stderr",
     "output_type": "stream",
     "text": [
      "  5%|███▉                                                                         | 358/6973 [13:44<4:19:23,  2.35s/it]"
     ]
    },
    {
     "name": "stdout",
     "output_type": "stream",
     "text": [
      "인식되지 않습니다.\n"
     ]
    },
    {
     "name": "stderr",
     "output_type": "stream",
     "text": [
      "  5%|███▉                                                                         | 362/6973 [13:54<4:20:15,  2.36s/it]"
     ]
    },
    {
     "name": "stdout",
     "output_type": "stream",
     "text": [
      "인식되지 않습니다.\n"
     ]
    },
    {
     "name": "stderr",
     "output_type": "stream",
     "text": [
      "  5%|████                                                                         | 365/6973 [14:01<4:18:13,  2.34s/it]"
     ]
    },
    {
     "name": "stdout",
     "output_type": "stream",
     "text": [
      "인식되지 않습니다.\n"
     ]
    },
    {
     "name": "stderr",
     "output_type": "stream",
     "text": [
      "  5%|████                                                                         | 367/6973 [14:06<4:31:11,  2.46s/it]"
     ]
    },
    {
     "name": "stdout",
     "output_type": "stream",
     "text": [
      "인식되지 않습니다.\n"
     ]
    },
    {
     "name": "stderr",
     "output_type": "stream",
     "text": [
      "\r",
      "  5%|████                                                                         | 368/6973 [14:08<4:27:33,  2.43s/it]"
     ]
    },
    {
     "name": "stdout",
     "output_type": "stream",
     "text": [
      "인식되지 않습니다.\n"
     ]
    },
    {
     "name": "stderr",
     "output_type": "stream",
     "text": [
      "\r",
      "  5%|████                                                                         | 369/6973 [14:10<4:20:44,  2.37s/it]"
     ]
    },
    {
     "name": "stdout",
     "output_type": "stream",
     "text": [
      "인식되지 않습니다.\n"
     ]
    },
    {
     "name": "stderr",
     "output_type": "stream",
     "text": [
      "  5%|████                                                                         | 372/6973 [14:17<4:12:57,  2.30s/it]"
     ]
    },
    {
     "name": "stdout",
     "output_type": "stream",
     "text": [
      "인식되지 않습니다.\n"
     ]
    },
    {
     "name": "stderr",
     "output_type": "stream",
     "text": [
      "  5%|████▏                                                                        | 374/6973 [14:22<4:07:33,  2.25s/it]"
     ]
    },
    {
     "name": "stdout",
     "output_type": "stream",
     "text": [
      "인식되지 않습니다.\n"
     ]
    },
    {
     "name": "stderr",
     "output_type": "stream",
     "text": [
      "  5%|████▏                                                                        | 380/6973 [14:35<4:04:26,  2.22s/it]"
     ]
    },
    {
     "name": "stdout",
     "output_type": "stream",
     "text": [
      "인식되지 않습니다.\n"
     ]
    },
    {
     "name": "stderr",
     "output_type": "stream",
     "text": [
      "  6%|████▎                                                                        | 385/6973 [14:44<2:56:17,  1.61s/it]"
     ]
    },
    {
     "name": "stdout",
     "output_type": "stream",
     "text": [
      "오류 발생\n"
     ]
    },
    {
     "name": "stderr",
     "output_type": "stream",
     "text": [
      "\r",
      "  6%|████▎                                                                        | 386/6973 [14:46<3:16:27,  1.79s/it]"
     ]
    },
    {
     "name": "stdout",
     "output_type": "stream",
     "text": [
      "인식되지 않습니다.\n"
     ]
    },
    {
     "name": "stderr",
     "output_type": "stream",
     "text": [
      "  6%|████▎                                                                        | 391/6973 [14:58<4:01:32,  2.20s/it]"
     ]
    },
    {
     "name": "stdout",
     "output_type": "stream",
     "text": [
      "인식되지 않습니다.\n"
     ]
    },
    {
     "name": "stderr",
     "output_type": "stream",
     "text": [
      "\r",
      "  6%|████▎                                                                        | 392/6973 [15:00<4:02:14,  2.21s/it]"
     ]
    },
    {
     "name": "stdout",
     "output_type": "stream",
     "text": [
      "인식되지 않습니다.\n"
     ]
    },
    {
     "name": "stderr",
     "output_type": "stream",
     "text": [
      "\r",
      "  6%|████▎                                                                        | 393/6973 [15:02<4:02:14,  2.21s/it]"
     ]
    },
    {
     "name": "stdout",
     "output_type": "stream",
     "text": [
      "인식되지 않습니다.\n"
     ]
    },
    {
     "name": "stderr",
     "output_type": "stream",
     "text": [
      "\r",
      "  6%|████▎                                                                        | 394/6973 [15:04<4:08:10,  2.26s/it]"
     ]
    },
    {
     "name": "stdout",
     "output_type": "stream",
     "text": [
      "인식되지 않습니다.\n"
     ]
    },
    {
     "name": "stderr",
     "output_type": "stream",
     "text": [
      "  6%|████▍                                                                        | 398/6973 [15:14<4:24:06,  2.41s/it]"
     ]
    },
    {
     "name": "stdout",
     "output_type": "stream",
     "text": [
      "인식되지 않습니다.\n"
     ]
    },
    {
     "name": "stderr",
     "output_type": "stream",
     "text": [
      "\r",
      "  6%|████▍                                                                        | 399/6973 [15:17<4:20:04,  2.37s/it]"
     ]
    },
    {
     "name": "stdout",
     "output_type": "stream",
     "text": [
      "인식되지 않습니다.\n"
     ]
    },
    {
     "name": "stderr",
     "output_type": "stream",
     "text": [
      "  6%|████▍                                                                        | 403/6973 [15:26<4:13:02,  2.31s/it]"
     ]
    },
    {
     "name": "stdout",
     "output_type": "stream",
     "text": [
      "인식되지 않습니다.\n"
     ]
    },
    {
     "name": "stderr",
     "output_type": "stream",
     "text": [
      "\r",
      "  6%|████▍                                                                        | 404/6973 [15:28<4:08:15,  2.27s/it]"
     ]
    },
    {
     "name": "stdout",
     "output_type": "stream",
     "text": [
      "인식되지 않습니다.\n"
     ]
    },
    {
     "name": "stderr",
     "output_type": "stream",
     "text": [
      "\r",
      "  6%|████▍                                                                        | 405/6973 [15:30<4:05:31,  2.24s/it]"
     ]
    },
    {
     "name": "stdout",
     "output_type": "stream",
     "text": [
      "인식되지 않습니다.\n"
     ]
    },
    {
     "name": "stderr",
     "output_type": "stream",
     "text": [
      "  6%|████▍                                                                        | 407/6973 [15:35<4:09:41,  2.28s/it]"
     ]
    },
    {
     "name": "stdout",
     "output_type": "stream",
     "text": [
      "인식되지 않습니다.\n"
     ]
    },
    {
     "name": "stderr",
     "output_type": "stream",
     "text": [
      "  6%|████▌                                                                        | 410/6973 [15:42<4:13:56,  2.32s/it]"
     ]
    },
    {
     "name": "stdout",
     "output_type": "stream",
     "text": [
      "인식되지 않습니다.\n"
     ]
    },
    {
     "name": "stderr",
     "output_type": "stream",
     "text": [
      "\r",
      "  6%|████▌                                                                        | 411/6973 [15:44<4:10:30,  2.29s/it]"
     ]
    },
    {
     "name": "stdout",
     "output_type": "stream",
     "text": [
      "인식되지 않습니다.\n"
     ]
    },
    {
     "name": "stderr",
     "output_type": "stream",
     "text": [
      "  6%|████▌                                                                        | 416/6973 [15:55<4:08:43,  2.28s/it]"
     ]
    },
    {
     "name": "stdout",
     "output_type": "stream",
     "text": [
      "인식되지 않습니다.\n"
     ]
    },
    {
     "name": "stderr",
     "output_type": "stream",
     "text": [
      "\r",
      "  6%|████▌                                                                        | 417/6973 [15:57<4:07:05,  2.26s/it]"
     ]
    },
    {
     "name": "stdout",
     "output_type": "stream",
     "text": [
      "인식되지 않습니다.\n"
     ]
    },
    {
     "name": "stderr",
     "output_type": "stream",
     "text": [
      "  6%|████▋                                                                        | 423/6973 [16:11<4:16:08,  2.35s/it]"
     ]
    },
    {
     "name": "stdout",
     "output_type": "stream",
     "text": [
      "인식되지 않습니다.\n"
     ]
    },
    {
     "name": "stderr",
     "output_type": "stream",
     "text": [
      "\r",
      "  6%|████▋                                                                        | 424/6973 [16:14<4:11:27,  2.30s/it]"
     ]
    },
    {
     "name": "stdout",
     "output_type": "stream",
     "text": [
      "인식되지 않습니다.\n"
     ]
    },
    {
     "name": "stderr",
     "output_type": "stream",
     "text": [
      "  6%|████▋                                                                        | 427/6973 [16:21<4:10:53,  2.30s/it]"
     ]
    },
    {
     "name": "stdout",
     "output_type": "stream",
     "text": [
      "인식되지 않습니다.\n"
     ]
    },
    {
     "name": "stderr",
     "output_type": "stream",
     "text": [
      "  6%|████▋                                                                        | 429/6973 [16:25<4:08:22,  2.28s/it]"
     ]
    },
    {
     "name": "stdout",
     "output_type": "stream",
     "text": [
      "인식되지 않습니다.\n"
     ]
    },
    {
     "name": "stderr",
     "output_type": "stream",
     "text": [
      "  6%|████▊                                                                        | 435/6973 [16:39<4:07:45,  2.27s/it]"
     ]
    },
    {
     "name": "stdout",
     "output_type": "stream",
     "text": [
      "인식되지 않습니다.\n"
     ]
    },
    {
     "name": "stderr",
     "output_type": "stream",
     "text": [
      "  6%|████▊                                                                        | 437/6973 [16:43<4:10:55,  2.30s/it]"
     ]
    },
    {
     "name": "stdout",
     "output_type": "stream",
     "text": [
      "인식되지 않습니다.\n"
     ]
    },
    {
     "name": "stderr",
     "output_type": "stream",
     "text": [
      "\r",
      "  6%|████▊                                                                        | 438/6973 [16:46<4:10:31,  2.30s/it]"
     ]
    },
    {
     "name": "stdout",
     "output_type": "stream",
     "text": [
      "오류 발생\n"
     ]
    },
    {
     "name": "stderr",
     "output_type": "stream",
     "text": [
      "  6%|████▊                                                                        | 441/6973 [16:53<4:16:13,  2.35s/it]"
     ]
    },
    {
     "name": "stdout",
     "output_type": "stream",
     "text": [
      "인식되지 않습니다.\n"
     ]
    },
    {
     "name": "stderr",
     "output_type": "stream",
     "text": [
      "\r",
      "  6%|████▉                                                                        | 442/6973 [16:55<4:12:33,  2.32s/it]"
     ]
    },
    {
     "name": "stdout",
     "output_type": "stream",
     "text": [
      "오류 발생\n"
     ]
    },
    {
     "name": "stderr",
     "output_type": "stream",
     "text": [
      "  6%|████▉                                                                        | 444/6973 [17:00<4:12:42,  2.32s/it]"
     ]
    },
    {
     "name": "stdout",
     "output_type": "stream",
     "text": [
      "오류 발생\n"
     ]
    },
    {
     "name": "stderr",
     "output_type": "stream",
     "text": [
      "  6%|████▉                                                                        | 452/6973 [17:18<4:08:49,  2.29s/it]"
     ]
    },
    {
     "name": "stdout",
     "output_type": "stream",
     "text": [
      "인식되지 않습니다.\n"
     ]
    },
    {
     "name": "stderr",
     "output_type": "stream",
     "text": [
      "\r",
      "  6%|█████                                                                        | 453/6973 [17:20<4:05:27,  2.26s/it]"
     ]
    },
    {
     "name": "stdout",
     "output_type": "stream",
     "text": [
      "인식되지 않습니다.\n"
     ]
    },
    {
     "name": "stderr",
     "output_type": "stream",
     "text": [
      "  7%|█████                                                                        | 458/6973 [17:32<4:18:04,  2.38s/it]"
     ]
    },
    {
     "name": "stdout",
     "output_type": "stream",
     "text": [
      "인식되지 않습니다.\n"
     ]
    },
    {
     "name": "stderr",
     "output_type": "stream",
     "text": [
      "\r",
      "  7%|█████                                                                        | 459/6973 [17:34<4:15:27,  2.35s/it]"
     ]
    },
    {
     "name": "stdout",
     "output_type": "stream",
     "text": [
      "인식되지 않습니다.\n"
     ]
    },
    {
     "name": "stderr",
     "output_type": "stream",
     "text": [
      "  7%|█████                                                                        | 464/6973 [17:46<4:17:47,  2.38s/it]"
     ]
    },
    {
     "name": "stdout",
     "output_type": "stream",
     "text": [
      "인식되지 않습니다.\n"
     ]
    },
    {
     "name": "stderr",
     "output_type": "stream",
     "text": [
      "  7%|█████▏                                                                       | 469/6973 [17:54<2:24:26,  1.33s/it]"
     ]
    },
    {
     "name": "stdout",
     "output_type": "stream",
     "text": [
      "오류 발생\n",
      "오류 발생\n"
     ]
    },
    {
     "name": "stderr",
     "output_type": "stream",
     "text": [
      "\r",
      "  7%|█████▏                                                                       | 470/6973 [17:56<2:53:38,  1.60s/it]"
     ]
    },
    {
     "name": "stdout",
     "output_type": "stream",
     "text": [
      "인식되지 않습니다.\n"
     ]
    },
    {
     "name": "stderr",
     "output_type": "stream",
     "text": [
      "\r",
      "  7%|█████▏                                                                       | 471/6973 [17:59<3:15:31,  1.80s/it]"
     ]
    }
   ],
   "source": [
    "lst_total_boundary = []\n",
    "for idx_rem, (num, style, style_part, comment, tag, domain_url) in enumerate(zip(tqdm.tqdm(lst_total),\n",
    "                                                                              df_musina_2['style'],df_musina_2['style_part'],\n",
    "                                                                              df_musina_2['comment'],df_musina_2['tag'],\n",
    "                                                                              df_musina_2['domain_url'])):\n",
    "    \n",
    "\n",
    "    lst_0 = make_image_bouding_file(str(num),style, style_part, comment, tag, domain_url)\n",
    "\n",
    "    if len(lst_0) != 0:\n",
    "        for data in lst_0:\n",
    "            lst_total_boundary.append(data)\n",
    "\n",
    "    else:\n",
    "        lst_total_boundary.append(lst_0)\n",
    "\n",
    "\n",
    "df_final = pd.DataFrame(lst_total_boundary)\n",
    "df_final.columns = ['uniq_index','name','prob','detected','coordinate','style','sub_style','description','tag','domain_url']"
   ]
  },
  {
   "cell_type": "code",
   "execution_count": null,
   "metadata": {},
   "outputs": [],
   "source": []
  },
  {
   "cell_type": "code",
   "execution_count": null,
   "metadata": {},
   "outputs": [],
   "source": []
  },
  {
   "cell_type": "code",
   "execution_count": null,
   "metadata": {},
   "outputs": [],
   "source": []
  },
  {
   "cell_type": "code",
   "execution_count": 110,
   "metadata": {},
   "outputs": [],
   "source": [
    "test = pd.DataFrame(lst_total_boundary)"
   ]
  },
  {
   "cell_type": "code",
   "execution_count": 111,
   "metadata": {},
   "outputs": [],
   "source": [
    "test.columns = ['uniq_index','name','prob','detected','coordinate','style','sub_style','description','tag','domain_url']"
   ]
  },
  {
   "cell_type": "code",
   "execution_count": 112,
   "metadata": {},
   "outputs": [
    {
     "data": {
      "text/html": [
       "<div>\n",
       "<style scoped>\n",
       "    .dataframe tbody tr th:only-of-type {\n",
       "        vertical-align: middle;\n",
       "    }\n",
       "\n",
       "    .dataframe tbody tr th {\n",
       "        vertical-align: top;\n",
       "    }\n",
       "\n",
       "    .dataframe thead th {\n",
       "        text-align: right;\n",
       "    }\n",
       "</style>\n",
       "<table border=\"1\" class=\"dataframe\">\n",
       "  <thead>\n",
       "    <tr style=\"text-align: right;\">\n",
       "      <th></th>\n",
       "      <th>uniq_index</th>\n",
       "      <th>name</th>\n",
       "      <th>prob</th>\n",
       "      <th>detected</th>\n",
       "      <th>coordinate</th>\n",
       "      <th>style</th>\n",
       "      <th>sub_style</th>\n",
       "      <th>description</th>\n",
       "      <th>tag</th>\n",
       "      <th>domain_url</th>\n",
       "    </tr>\n",
       "  </thead>\n",
       "  <tbody>\n",
       "    <tr>\n",
       "      <th>0</th>\n",
       "      <td>0_0</td>\n",
       "      <td>skirt</td>\n",
       "      <td>0.841717</td>\n",
       "      <td>1</td>\n",
       "      <td>[136, 372, 307, 600]</td>\n",
       "      <td>아메리칸 캐주얼</td>\n",
       "      <td>아메카지 멋 내기</td>\n",
       "      <td>브라운 컬러가 돋보이는 카디건과 코튼 팬츠를 코디하고 숏 패딩과 머플러를 더해 완성...</td>\n",
       "      <td>['겨울', '아메리칸 캐주얼', '구두', '로스트가든', '메신저/크로스 백',...</td>\n",
       "      <td>https://store.musinsa.com/app/codimap/views/20899</td>\n",
       "    </tr>\n",
       "    <tr>\n",
       "      <th>1</th>\n",
       "      <td>0_1</td>\n",
       "      <td>vest</td>\n",
       "      <td>0.814548</td>\n",
       "      <td>1</td>\n",
       "      <td>[23, 58, 427, 536]</td>\n",
       "      <td>아메리칸 캐주얼</td>\n",
       "      <td>아메카지 멋 내기</td>\n",
       "      <td>브라운 컬러가 돋보이는 카디건과 코튼 팬츠를 코디하고 숏 패딩과 머플러를 더해 완성...</td>\n",
       "      <td>['겨울', '아메리칸 캐주얼', '구두', '로스트가든', '메신저/크로스 백',...</td>\n",
       "      <td>https://store.musinsa.com/app/codimap/views/20899</td>\n",
       "    </tr>\n",
       "    <tr>\n",
       "      <th>2</th>\n",
       "      <td>0_2</td>\n",
       "      <td>short sleeve outwear</td>\n",
       "      <td>0.741491</td>\n",
       "      <td>1</td>\n",
       "      <td>[33, 54, 418, 482]</td>\n",
       "      <td>아메리칸 캐주얼</td>\n",
       "      <td>아메카지 멋 내기</td>\n",
       "      <td>브라운 컬러가 돋보이는 카디건과 코튼 팬츠를 코디하고 숏 패딩과 머플러를 더해 완성...</td>\n",
       "      <td>['겨울', '아메리칸 캐주얼', '구두', '로스트가든', '메신저/크로스 백',...</td>\n",
       "      <td>https://store.musinsa.com/app/codimap/views/20899</td>\n",
       "    </tr>\n",
       "    <tr>\n",
       "      <th>3</th>\n",
       "      <td>1_0</td>\n",
       "      <td>vest</td>\n",
       "      <td>0.996947</td>\n",
       "      <td>1</td>\n",
       "      <td>[74, 81, 422, 601]</td>\n",
       "      <td>아메리칸 캐주얼</td>\n",
       "      <td>아메카지 멋 내기</td>\n",
       "      <td>브라운 컬러가 돋보이는 카디건과 코튼 팬츠를 코디하고 숏 패딩과 머플러를 더해 완성...</td>\n",
       "      <td>['겨울', '아메리칸 캐주얼', '구두', '로스트가든', '메신저/크로스 백',...</td>\n",
       "      <td>https://store.musinsa.com/app/codimap/views/20899</td>\n",
       "    </tr>\n",
       "    <tr>\n",
       "      <th>4</th>\n",
       "      <td>1_1</td>\n",
       "      <td>skirt</td>\n",
       "      <td>0.702712</td>\n",
       "      <td>1</td>\n",
       "      <td>[122, 437, 362, 601]</td>\n",
       "      <td>아메리칸 캐주얼</td>\n",
       "      <td>아메카지 멋 내기</td>\n",
       "      <td>브라운 컬러가 돋보이는 카디건과 코튼 팬츠를 코디하고 숏 패딩과 머플러를 더해 완성...</td>\n",
       "      <td>['겨울', '아메리칸 캐주얼', '구두', '로스트가든', '메신저/크로스 백',...</td>\n",
       "      <td>https://store.musinsa.com/app/codimap/views/20899</td>\n",
       "    </tr>\n",
       "    <tr>\n",
       "      <th>5</th>\n",
       "      <td>2_0</td>\n",
       "      <td>skirt</td>\n",
       "      <td>0.837292</td>\n",
       "      <td>1</td>\n",
       "      <td>[155, 410, 362, 592]</td>\n",
       "      <td>아메리칸 캐주얼</td>\n",
       "      <td>아메카지 멋 내기</td>\n",
       "      <td>브라운 컬러가 돋보이는 카디건과 코튼 팬츠를 코디하고 숏 패딩과 머플러를 더해 완성...</td>\n",
       "      <td>['겨울', '아메리칸 캐주얼', '구두', '로스트가든', '메신저/크로스 백',...</td>\n",
       "      <td>https://store.musinsa.com/app/codimap/views/20899</td>\n",
       "    </tr>\n",
       "    <tr>\n",
       "      <th>6</th>\n",
       "      <td>2_1</td>\n",
       "      <td>vest</td>\n",
       "      <td>0.812690</td>\n",
       "      <td>1</td>\n",
       "      <td>[96, 54, 398, 518]</td>\n",
       "      <td>아메리칸 캐주얼</td>\n",
       "      <td>아메카지 멋 내기</td>\n",
       "      <td>브라운 컬러가 돋보이는 카디건과 코튼 팬츠를 코디하고 숏 패딩과 머플러를 더해 완성...</td>\n",
       "      <td>['겨울', '아메리칸 캐주얼', '구두', '로스트가든', '메신저/크로스 백',...</td>\n",
       "      <td>https://store.musinsa.com/app/codimap/views/20899</td>\n",
       "    </tr>\n",
       "    <tr>\n",
       "      <th>7</th>\n",
       "      <td>2_2</td>\n",
       "      <td>short sleeve outwear</td>\n",
       "      <td>0.780120</td>\n",
       "      <td>1</td>\n",
       "      <td>[116, 62, 399, 483]</td>\n",
       "      <td>아메리칸 캐주얼</td>\n",
       "      <td>아메카지 멋 내기</td>\n",
       "      <td>브라운 컬러가 돋보이는 카디건과 코튼 팬츠를 코디하고 숏 패딩과 머플러를 더해 완성...</td>\n",
       "      <td>['겨울', '아메리칸 캐주얼', '구두', '로스트가든', '메신저/크로스 백',...</td>\n",
       "      <td>https://store.musinsa.com/app/codimap/views/20899</td>\n",
       "    </tr>\n",
       "  </tbody>\n",
       "</table>\n",
       "</div>"
      ],
      "text/plain": [
       "  uniq_index                  name      prob  detected            coordinate  \\\n",
       "0        0_0                 skirt  0.841717         1  [136, 372, 307, 600]   \n",
       "1        0_1                  vest  0.814548         1    [23, 58, 427, 536]   \n",
       "2        0_2  short sleeve outwear  0.741491         1    [33, 54, 418, 482]   \n",
       "3        1_0                  vest  0.996947         1    [74, 81, 422, 601]   \n",
       "4        1_1                 skirt  0.702712         1  [122, 437, 362, 601]   \n",
       "5        2_0                 skirt  0.837292         1  [155, 410, 362, 592]   \n",
       "6        2_1                  vest  0.812690         1    [96, 54, 398, 518]   \n",
       "7        2_2  short sleeve outwear  0.780120         1   [116, 62, 399, 483]   \n",
       "\n",
       "      style  sub_style                                        description  \\\n",
       "0  아메리칸 캐주얼  아메카지 멋 내기  브라운 컬러가 돋보이는 카디건과 코튼 팬츠를 코디하고 숏 패딩과 머플러를 더해 완성...   \n",
       "1  아메리칸 캐주얼  아메카지 멋 내기  브라운 컬러가 돋보이는 카디건과 코튼 팬츠를 코디하고 숏 패딩과 머플러를 더해 완성...   \n",
       "2  아메리칸 캐주얼  아메카지 멋 내기  브라운 컬러가 돋보이는 카디건과 코튼 팬츠를 코디하고 숏 패딩과 머플러를 더해 완성...   \n",
       "3  아메리칸 캐주얼  아메카지 멋 내기  브라운 컬러가 돋보이는 카디건과 코튼 팬츠를 코디하고 숏 패딩과 머플러를 더해 완성...   \n",
       "4  아메리칸 캐주얼  아메카지 멋 내기  브라운 컬러가 돋보이는 카디건과 코튼 팬츠를 코디하고 숏 패딩과 머플러를 더해 완성...   \n",
       "5  아메리칸 캐주얼  아메카지 멋 내기  브라운 컬러가 돋보이는 카디건과 코튼 팬츠를 코디하고 숏 패딩과 머플러를 더해 완성...   \n",
       "6  아메리칸 캐주얼  아메카지 멋 내기  브라운 컬러가 돋보이는 카디건과 코튼 팬츠를 코디하고 숏 패딩과 머플러를 더해 완성...   \n",
       "7  아메리칸 캐주얼  아메카지 멋 내기  브라운 컬러가 돋보이는 카디건과 코튼 팬츠를 코디하고 숏 패딩과 머플러를 더해 완성...   \n",
       "\n",
       "                                                 tag  \\\n",
       "0  ['겨울', '아메리칸 캐주얼', '구두', '로스트가든', '메신저/크로스 백',...   \n",
       "1  ['겨울', '아메리칸 캐주얼', '구두', '로스트가든', '메신저/크로스 백',...   \n",
       "2  ['겨울', '아메리칸 캐주얼', '구두', '로스트가든', '메신저/크로스 백',...   \n",
       "3  ['겨울', '아메리칸 캐주얼', '구두', '로스트가든', '메신저/크로스 백',...   \n",
       "4  ['겨울', '아메리칸 캐주얼', '구두', '로스트가든', '메신저/크로스 백',...   \n",
       "5  ['겨울', '아메리칸 캐주얼', '구두', '로스트가든', '메신저/크로스 백',...   \n",
       "6  ['겨울', '아메리칸 캐주얼', '구두', '로스트가든', '메신저/크로스 백',...   \n",
       "7  ['겨울', '아메리칸 캐주얼', '구두', '로스트가든', '메신저/크로스 백',...   \n",
       "\n",
       "                                          domain_url  \n",
       "0  https://store.musinsa.com/app/codimap/views/20899  \n",
       "1  https://store.musinsa.com/app/codimap/views/20899  \n",
       "2  https://store.musinsa.com/app/codimap/views/20899  \n",
       "3  https://store.musinsa.com/app/codimap/views/20899  \n",
       "4  https://store.musinsa.com/app/codimap/views/20899  \n",
       "5  https://store.musinsa.com/app/codimap/views/20899  \n",
       "6  https://store.musinsa.com/app/codimap/views/20899  \n",
       "7  https://store.musinsa.com/app/codimap/views/20899  "
      ]
     },
     "execution_count": 112,
     "metadata": {},
     "output_type": "execute_result"
    }
   ],
   "source": [
    "test"
   ]
  },
  {
   "cell_type": "code",
   "execution_count": 38,
   "metadata": {},
   "outputs": [],
   "source": [
    "img_dir = 'MuSinSa_photo/Origin/' + str(2) + '.jpg'\n",
    "img_1 = skimage.io.imread(img_dir)\n",
    "\n",
    "A = model.detect([img_1]) "
   ]
  },
  {
   "cell_type": "code",
   "execution_count": 63,
   "metadata": {},
   "outputs": [
    {
     "data": {
      "text/plain": [
       "array([0.8372923 , 0.81268954, 0.78011996], dtype=float32)"
      ]
     },
     "execution_count": 63,
     "metadata": {},
     "output_type": "execute_result"
    }
   ],
   "source": [
    "A[0]['scores']"
   ]
  },
  {
   "cell_type": "code",
   "execution_count": 14,
   "metadata": {},
   "outputs": [],
   "source": [
    "img_lst = [img_1[np.newaxis,:].tolist(), img_2[np.newaxis,:].tolist()]"
   ]
  },
  {
   "cell_type": "code",
   "execution_count": 134,
   "metadata": {},
   "outputs": [
    {
     "data": {
      "text/plain": [
       "2"
      ]
     },
     "execution_count": 134,
     "metadata": {},
     "output_type": "execute_result"
    }
   ],
   "source": [
    "len(img_lst)"
   ]
  },
  {
   "cell_type": "code",
   "execution_count": 159,
   "metadata": {},
   "outputs": [
    {
     "data": {
      "text/plain": [
       "2"
      ]
     },
     "execution_count": 159,
     "metadata": {},
     "output_type": "execute_result"
    }
   ],
   "source": [
    "len(img_lst)"
   ]
  },
  {
   "cell_type": "code",
   "execution_count": 102,
   "metadata": {},
   "outputs": [
    {
     "data": {
      "text/plain": [
       "[[['0', 'skirt', 1, [136, 372, 307, 600]]],\n",
       " [['1', 'vest', 1, [74, 81, 422, 601]]],\n",
       " [['2', 'skirt', 1, [155, 410, 362, 592]]]]"
      ]
     },
     "execution_count": 102,
     "metadata": {},
     "output_type": "execute_result"
    }
   ],
   "source": [
    "lst_total_boundary"
   ]
  },
  {
   "cell_type": "code",
   "execution_count": 36,
   "metadata": {},
   "outputs": [
    {
     "data": {
      "text/html": [
       "<div>\n",
       "<style scoped>\n",
       "    .dataframe tbody tr th:only-of-type {\n",
       "        vertical-align: middle;\n",
       "    }\n",
       "\n",
       "    .dataframe tbody tr th {\n",
       "        vertical-align: top;\n",
       "    }\n",
       "\n",
       "    .dataframe thead th {\n",
       "        text-align: right;\n",
       "    }\n",
       "</style>\n",
       "<table border=\"1\" class=\"dataframe\">\n",
       "  <thead>\n",
       "    <tr style=\"text-align: right;\">\n",
       "      <th></th>\n",
       "      <th>index</th>\n",
       "      <th>image_url</th>\n",
       "      <th>style</th>\n",
       "      <th>style_part</th>\n",
       "      <th>comment</th>\n",
       "      <th>tag</th>\n",
       "      <th>domain_url</th>\n",
       "    </tr>\n",
       "  </thead>\n",
       "  <tbody>\n",
       "    <tr>\n",
       "      <th>0</th>\n",
       "      <td>0</td>\n",
       "      <td>https://image.msscdn.net/images/goods_img/2020...</td>\n",
       "      <td>아메리칸 캐주얼</td>\n",
       "      <td>아메카지 멋 내기</td>\n",
       "      <td>브라운 컬러가 돋보이는 카디건과 코튼 팬츠를 코디하고 숏 패딩과 머플러를 더해 완성...</td>\n",
       "      <td>['겨울', '아메리칸 캐주얼', '구두', '로스트가든', '메신저/크로스 백',...</td>\n",
       "      <td>https://store.musinsa.com/app/codimap/views/20899</td>\n",
       "    </tr>\n",
       "    <tr>\n",
       "      <th>1</th>\n",
       "      <td>1</td>\n",
       "      <td>https://image.msscdn.net/images/goods_img/2022...</td>\n",
       "      <td>아메리칸 캐주얼</td>\n",
       "      <td>아메카지 멋 내기</td>\n",
       "      <td>브라운 컬러가 돋보이는 카디건과 코튼 팬츠를 코디하고 숏 패딩과 머플러를 더해 완성...</td>\n",
       "      <td>['겨울', '아메리칸 캐주얼', '구두', '로스트가든', '메신저/크로스 백',...</td>\n",
       "      <td>https://store.musinsa.com/app/codimap/views/20899</td>\n",
       "    </tr>\n",
       "    <tr>\n",
       "      <th>2</th>\n",
       "      <td>2</td>\n",
       "      <td>https://image.msscdn.net/images/goods_img/2022...</td>\n",
       "      <td>아메리칸 캐주얼</td>\n",
       "      <td>아메카지 멋 내기</td>\n",
       "      <td>브라운 컬러가 돋보이는 카디건과 코튼 팬츠를 코디하고 숏 패딩과 머플러를 더해 완성...</td>\n",
       "      <td>['겨울', '아메리칸 캐주얼', '구두', '로스트가든', '메신저/크로스 백',...</td>\n",
       "      <td>https://store.musinsa.com/app/codimap/views/20899</td>\n",
       "    </tr>\n",
       "    <tr>\n",
       "      <th>3</th>\n",
       "      <td>3</td>\n",
       "      <td>https://image.msscdn.net/images/goods_img/2022...</td>\n",
       "      <td>아메리칸 캐주얼</td>\n",
       "      <td>아메카지 멋 내기</td>\n",
       "      <td>브라운 컬러가 돋보이는 카디건과 코튼 팬츠를 코디하고 숏 패딩과 머플러를 더해 완성...</td>\n",
       "      <td>['겨울', '아메리칸 캐주얼', '구두', '로스트가든', '메신저/크로스 백',...</td>\n",
       "      <td>https://store.musinsa.com/app/codimap/views/20899</td>\n",
       "    </tr>\n",
       "    <tr>\n",
       "      <th>4</th>\n",
       "      <td>4</td>\n",
       "      <td>https://image.msscdn.net/images/goods_img/2021...</td>\n",
       "      <td>아메리칸 캐주얼</td>\n",
       "      <td>아메카지 멋 내기</td>\n",
       "      <td>브라운 컬러가 돋보이는 카디건과 코튼 팬츠를 코디하고 숏 패딩과 머플러를 더해 완성...</td>\n",
       "      <td>['겨울', '아메리칸 캐주얼', '구두', '로스트가든', '메신저/크로스 백',...</td>\n",
       "      <td>https://store.musinsa.com/app/codimap/views/20899</td>\n",
       "    </tr>\n",
       "    <tr>\n",
       "      <th>...</th>\n",
       "      <td>...</td>\n",
       "      <td>...</td>\n",
       "      <td>...</td>\n",
       "      <td>...</td>\n",
       "      <td>...</td>\n",
       "      <td>...</td>\n",
       "      <td>...</td>\n",
       "    </tr>\n",
       "    <tr>\n",
       "      <th>6973</th>\n",
       "      <td>3184</td>\n",
       "      <td>https://image.msscdn.net/images/goods_img/2022...</td>\n",
       "      <td>스트릿</td>\n",
       "      <td>디테일로 승부</td>\n",
       "      <td>페이즐리 패턴이 매력적인 숏 패딩과 카고 팬츠를 코디하고 비니로 포인트를 더한 스트릿 룩</td>\n",
       "      <td>['겨울', '스트릿', '레이어무드', '비얼디드키드', '세인트페인', '앳 더...</td>\n",
       "      <td>https://store.musinsa.com/app/codimap/views/19542</td>\n",
       "    </tr>\n",
       "    <tr>\n",
       "      <th>6974</th>\n",
       "      <td>3185</td>\n",
       "      <td>https://image.msscdn.net/images/goods_img/2022...</td>\n",
       "      <td>스트릿</td>\n",
       "      <td>디테일로 승부</td>\n",
       "      <td>페이즐리 패턴이 매력적인 숏 패딩과 카고 팬츠를 코디하고 비니로 포인트를 더한 스트릿 룩</td>\n",
       "      <td>['겨울', '스트릿', '레이어무드', '비얼디드키드', '세인트페인', '앳 더...</td>\n",
       "      <td>https://store.musinsa.com/app/codimap/views/19542</td>\n",
       "    </tr>\n",
       "    <tr>\n",
       "      <th>6975</th>\n",
       "      <td>3186</td>\n",
       "      <td>https://image.msscdn.net/images/goods_img/2022...</td>\n",
       "      <td>스트릿</td>\n",
       "      <td>디테일로 승부</td>\n",
       "      <td>페이즐리 패턴이 매력적인 숏 패딩과 카고 팬츠를 코디하고 비니로 포인트를 더한 스트릿 룩</td>\n",
       "      <td>['겨울', '스트릿', '레이어무드', '비얼디드키드', '세인트페인', '앳 더...</td>\n",
       "      <td>https://store.musinsa.com/app/codimap/views/19542</td>\n",
       "    </tr>\n",
       "    <tr>\n",
       "      <th>6976</th>\n",
       "      <td>3187</td>\n",
       "      <td>https://image.msscdn.net/images/goods_img/2022...</td>\n",
       "      <td>스트릿</td>\n",
       "      <td>디테일로 승부</td>\n",
       "      <td>페이즐리 패턴이 매력적인 숏 패딩과 카고 팬츠를 코디하고 비니로 포인트를 더한 스트릿 룩</td>\n",
       "      <td>['겨울', '스트릿', '레이어무드', '비얼디드키드', '세인트페인', '앳 더...</td>\n",
       "      <td>https://store.musinsa.com/app/codimap/views/19542</td>\n",
       "    </tr>\n",
       "    <tr>\n",
       "      <th>6977</th>\n",
       "      <td>3188</td>\n",
       "      <td>https://image.msscdn.net/images/goods_img/2022...</td>\n",
       "      <td>스트릿</td>\n",
       "      <td>디테일로 승부</td>\n",
       "      <td>페이즐리 패턴이 매력적인 숏 패딩과 카고 팬츠를 코디하고 비니로 포인트를 더한 스트릿 룩</td>\n",
       "      <td>['겨울', '스트릿', '레이어무드', '비얼디드키드', '세인트페인', '앳 더...</td>\n",
       "      <td>https://store.musinsa.com/app/codimap/views/19542</td>\n",
       "    </tr>\n",
       "  </tbody>\n",
       "</table>\n",
       "<p>6978 rows × 7 columns</p>\n",
       "</div>"
      ],
      "text/plain": [
       "      index                                          image_url     style  \\\n",
       "0         0  https://image.msscdn.net/images/goods_img/2020...  아메리칸 캐주얼   \n",
       "1         1  https://image.msscdn.net/images/goods_img/2022...  아메리칸 캐주얼   \n",
       "2         2  https://image.msscdn.net/images/goods_img/2022...  아메리칸 캐주얼   \n",
       "3         3  https://image.msscdn.net/images/goods_img/2022...  아메리칸 캐주얼   \n",
       "4         4  https://image.msscdn.net/images/goods_img/2021...  아메리칸 캐주얼   \n",
       "...     ...                                                ...       ...   \n",
       "6973   3184  https://image.msscdn.net/images/goods_img/2022...       스트릿   \n",
       "6974   3185  https://image.msscdn.net/images/goods_img/2022...       스트릿   \n",
       "6975   3186  https://image.msscdn.net/images/goods_img/2022...       스트릿   \n",
       "6976   3187  https://image.msscdn.net/images/goods_img/2022...       스트릿   \n",
       "6977   3188  https://image.msscdn.net/images/goods_img/2022...       스트릿   \n",
       "\n",
       "     style_part                                            comment  \\\n",
       "0     아메카지 멋 내기  브라운 컬러가 돋보이는 카디건과 코튼 팬츠를 코디하고 숏 패딩과 머플러를 더해 완성...   \n",
       "1     아메카지 멋 내기  브라운 컬러가 돋보이는 카디건과 코튼 팬츠를 코디하고 숏 패딩과 머플러를 더해 완성...   \n",
       "2     아메카지 멋 내기  브라운 컬러가 돋보이는 카디건과 코튼 팬츠를 코디하고 숏 패딩과 머플러를 더해 완성...   \n",
       "3     아메카지 멋 내기  브라운 컬러가 돋보이는 카디건과 코튼 팬츠를 코디하고 숏 패딩과 머플러를 더해 완성...   \n",
       "4     아메카지 멋 내기  브라운 컬러가 돋보이는 카디건과 코튼 팬츠를 코디하고 숏 패딩과 머플러를 더해 완성...   \n",
       "...         ...                                                ...   \n",
       "6973    디테일로 승부  페이즐리 패턴이 매력적인 숏 패딩과 카고 팬츠를 코디하고 비니로 포인트를 더한 스트릿 룩   \n",
       "6974    디테일로 승부  페이즐리 패턴이 매력적인 숏 패딩과 카고 팬츠를 코디하고 비니로 포인트를 더한 스트릿 룩   \n",
       "6975    디테일로 승부  페이즐리 패턴이 매력적인 숏 패딩과 카고 팬츠를 코디하고 비니로 포인트를 더한 스트릿 룩   \n",
       "6976    디테일로 승부  페이즐리 패턴이 매력적인 숏 패딩과 카고 팬츠를 코디하고 비니로 포인트를 더한 스트릿 룩   \n",
       "6977    디테일로 승부  페이즐리 패턴이 매력적인 숏 패딩과 카고 팬츠를 코디하고 비니로 포인트를 더한 스트릿 룩   \n",
       "\n",
       "                                                    tag  \\\n",
       "0     ['겨울', '아메리칸 캐주얼', '구두', '로스트가든', '메신저/크로스 백',...   \n",
       "1     ['겨울', '아메리칸 캐주얼', '구두', '로스트가든', '메신저/크로스 백',...   \n",
       "2     ['겨울', '아메리칸 캐주얼', '구두', '로스트가든', '메신저/크로스 백',...   \n",
       "3     ['겨울', '아메리칸 캐주얼', '구두', '로스트가든', '메신저/크로스 백',...   \n",
       "4     ['겨울', '아메리칸 캐주얼', '구두', '로스트가든', '메신저/크로스 백',...   \n",
       "...                                                 ...   \n",
       "6973  ['겨울', '스트릿', '레이어무드', '비얼디드키드', '세인트페인', '앳 더...   \n",
       "6974  ['겨울', '스트릿', '레이어무드', '비얼디드키드', '세인트페인', '앳 더...   \n",
       "6975  ['겨울', '스트릿', '레이어무드', '비얼디드키드', '세인트페인', '앳 더...   \n",
       "6976  ['겨울', '스트릿', '레이어무드', '비얼디드키드', '세인트페인', '앳 더...   \n",
       "6977  ['겨울', '스트릿', '레이어무드', '비얼디드키드', '세인트페인', '앳 더...   \n",
       "\n",
       "                                             domain_url  \n",
       "0     https://store.musinsa.com/app/codimap/views/20899  \n",
       "1     https://store.musinsa.com/app/codimap/views/20899  \n",
       "2     https://store.musinsa.com/app/codimap/views/20899  \n",
       "3     https://store.musinsa.com/app/codimap/views/20899  \n",
       "4     https://store.musinsa.com/app/codimap/views/20899  \n",
       "...                                                 ...  \n",
       "6973  https://store.musinsa.com/app/codimap/views/19542  \n",
       "6974  https://store.musinsa.com/app/codimap/views/19542  \n",
       "6975  https://store.musinsa.com/app/codimap/views/19542  \n",
       "6976  https://store.musinsa.com/app/codimap/views/19542  \n",
       "6977  https://store.musinsa.com/app/codimap/views/19542  \n",
       "\n",
       "[6978 rows x 7 columns]"
      ]
     },
     "execution_count": 36,
     "metadata": {},
     "output_type": "execute_result"
    }
   ],
   "source": [
    "df_total_page_2.drop"
   ]
  },
  {
   "cell_type": "code",
   "execution_count": null,
   "metadata": {},
   "outputs": [],
   "source": []
  },
  {
   "cell_type": "code",
   "execution_count": null,
   "metadata": {},
   "outputs": [],
   "source": []
  },
  {
   "cell_type": "code",
   "execution_count": null,
   "metadata": {},
   "outputs": [],
   "source": []
  },
  {
   "cell_type": "code",
   "execution_count": null,
   "metadata": {},
   "outputs": [],
   "source": []
  },
  {
   "cell_type": "code",
   "execution_count": null,
   "metadata": {},
   "outputs": [],
   "source": []
  }
 ],
 "metadata": {
  "hide_input": false,
  "kernelspec": {
   "display_name": "Python 3",
   "language": "python",
   "name": "python3"
  },
  "language_info": {
   "codemirror_mode": {
    "name": "ipython",
    "version": 3
   },
   "file_extension": ".py",
   "mimetype": "text/x-python",
   "name": "python",
   "nbconvert_exporter": "python",
   "pygments_lexer": "ipython3",
   "version": "3.7.4"
  },
  "toc": {
   "base_numbering": 1,
   "nav_menu": {},
   "number_sections": true,
   "sideBar": true,
   "skip_h1_title": false,
   "title_cell": "Table of Contents",
   "title_sidebar": "Contents",
   "toc_cell": false,
   "toc_position": {},
   "toc_section_display": true,
   "toc_window_display": false
  },
  "varInspector": {
   "cols": {
    "lenName": 16,
    "lenType": 16,
    "lenVar": 40
   },
   "kernels_config": {
    "python": {
     "delete_cmd_postfix": "",
     "delete_cmd_prefix": "del ",
     "library": "var_list.py",
     "varRefreshCmd": "print(var_dic_list())"
    },
    "r": {
     "delete_cmd_postfix": ") ",
     "delete_cmd_prefix": "rm(",
     "library": "var_list.r",
     "varRefreshCmd": "cat(var_dic_list()) "
    }
   },
   "types_to_exclude": [
    "module",
    "function",
    "builtin_function_or_method",
    "instance",
    "_Feature"
   ],
   "window_display": false
  }
 },
 "nbformat": 4,
 "nbformat_minor": 2
}
